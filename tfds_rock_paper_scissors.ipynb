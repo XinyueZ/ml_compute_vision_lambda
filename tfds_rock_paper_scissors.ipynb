{
  "nbformat": 4,
  "nbformat_minor": 0,
  "metadata": {
    "coursera": {
      "schema_names": [
        "tensorflow-datasets-w1"
      ]
    },
    "kernelspec": {
      "display_name": "Python 3",
      "language": "python",
      "name": "python3"
    },
    "language_info": {
      "codemirror_mode": {
        "name": "ipython",
        "version": 3
      },
      "file_extension": ".py",
      "mimetype": "text/x-python",
      "name": "python",
      "nbconvert_exporter": "python",
      "pygments_lexer": "ipython3",
      "version": "3.6.9"
    },
    "colab": {
      "name": "tfds_rock_paper_scissors.ipynb",
      "provenance": [],
      "machine_shape": "hm"
    },
    "accelerator": "GPU",
    "widgets": {
      "application/vnd.jupyter.widget-state+json": {
        "8593de529114462490b97b3be2b3e80d": {
          "model_module": "@jupyter-widgets/controls",
          "model_name": "HBoxModel",
          "state": {
            "_view_name": "HBoxView",
            "_dom_classes": [],
            "_model_name": "HBoxModel",
            "_view_module": "@jupyter-widgets/controls",
            "_model_module_version": "1.5.0",
            "_view_count": null,
            "_view_module_version": "1.5.0",
            "box_style": "",
            "layout": "IPY_MODEL_15ebba6d45a9465d975039041f117b48",
            "_model_module": "@jupyter-widgets/controls",
            "children": [
              "IPY_MODEL_efd7156ab5af494a8b73e5468d1b30d0",
              "IPY_MODEL_a928dad8bf094a28bdc2abe004335b84"
            ]
          }
        },
        "15ebba6d45a9465d975039041f117b48": {
          "model_module": "@jupyter-widgets/base",
          "model_name": "LayoutModel",
          "state": {
            "_view_name": "LayoutView",
            "grid_template_rows": null,
            "right": null,
            "justify_content": null,
            "_view_module": "@jupyter-widgets/base",
            "overflow": null,
            "_model_module_version": "1.2.0",
            "_view_count": null,
            "flex_flow": null,
            "width": null,
            "min_width": null,
            "border": null,
            "align_items": null,
            "bottom": null,
            "_model_module": "@jupyter-widgets/base",
            "top": null,
            "grid_column": null,
            "overflow_y": null,
            "overflow_x": null,
            "grid_auto_flow": null,
            "grid_area": null,
            "grid_template_columns": null,
            "flex": null,
            "_model_name": "LayoutModel",
            "justify_items": null,
            "grid_row": null,
            "max_height": null,
            "align_content": null,
            "visibility": null,
            "align_self": null,
            "height": null,
            "min_height": null,
            "padding": null,
            "grid_auto_rows": null,
            "grid_gap": null,
            "max_width": null,
            "order": null,
            "_view_module_version": "1.2.0",
            "grid_template_areas": null,
            "object_position": null,
            "object_fit": null,
            "grid_auto_columns": null,
            "margin": null,
            "display": null,
            "left": null
          }
        },
        "efd7156ab5af494a8b73e5468d1b30d0": {
          "model_module": "@jupyter-widgets/controls",
          "model_name": "FloatProgressModel",
          "state": {
            "_view_name": "ProgressView",
            "style": "IPY_MODEL_3ac1a2617a65411db63ffab00324c81b",
            "_dom_classes": [],
            "description": "Dl Completed...: 100%",
            "_model_name": "FloatProgressModel",
            "bar_style": "success",
            "max": 1,
            "_view_module": "@jupyter-widgets/controls",
            "_model_module_version": "1.5.0",
            "value": 1,
            "_view_count": null,
            "_view_module_version": "1.5.0",
            "orientation": "horizontal",
            "min": 0,
            "description_tooltip": null,
            "_model_module": "@jupyter-widgets/controls",
            "layout": "IPY_MODEL_639ffd2c2d014a098180caf2e740c090"
          }
        },
        "a928dad8bf094a28bdc2abe004335b84": {
          "model_module": "@jupyter-widgets/controls",
          "model_name": "HTMLModel",
          "state": {
            "_view_name": "HTMLView",
            "style": "IPY_MODEL_b37c60134c614d09a2e8769ddb7bfc4e",
            "_dom_classes": [],
            "description": "",
            "_model_name": "HTMLModel",
            "placeholder": "​",
            "_view_module": "@jupyter-widgets/controls",
            "_model_module_version": "1.5.0",
            "value": " 2/2 [00:03&lt;00:00,  1.52s/ url]",
            "_view_count": null,
            "_view_module_version": "1.5.0",
            "description_tooltip": null,
            "_model_module": "@jupyter-widgets/controls",
            "layout": "IPY_MODEL_7502e047292b40028ccae16b05b17461"
          }
        },
        "3ac1a2617a65411db63ffab00324c81b": {
          "model_module": "@jupyter-widgets/controls",
          "model_name": "ProgressStyleModel",
          "state": {
            "_view_name": "StyleView",
            "_model_name": "ProgressStyleModel",
            "description_width": "initial",
            "_view_module": "@jupyter-widgets/base",
            "_model_module_version": "1.5.0",
            "_view_count": null,
            "_view_module_version": "1.2.0",
            "bar_color": null,
            "_model_module": "@jupyter-widgets/controls"
          }
        },
        "639ffd2c2d014a098180caf2e740c090": {
          "model_module": "@jupyter-widgets/base",
          "model_name": "LayoutModel",
          "state": {
            "_view_name": "LayoutView",
            "grid_template_rows": null,
            "right": null,
            "justify_content": null,
            "_view_module": "@jupyter-widgets/base",
            "overflow": null,
            "_model_module_version": "1.2.0",
            "_view_count": null,
            "flex_flow": null,
            "width": null,
            "min_width": null,
            "border": null,
            "align_items": null,
            "bottom": null,
            "_model_module": "@jupyter-widgets/base",
            "top": null,
            "grid_column": null,
            "overflow_y": null,
            "overflow_x": null,
            "grid_auto_flow": null,
            "grid_area": null,
            "grid_template_columns": null,
            "flex": null,
            "_model_name": "LayoutModel",
            "justify_items": null,
            "grid_row": null,
            "max_height": null,
            "align_content": null,
            "visibility": null,
            "align_self": null,
            "height": null,
            "min_height": null,
            "padding": null,
            "grid_auto_rows": null,
            "grid_gap": null,
            "max_width": null,
            "order": null,
            "_view_module_version": "1.2.0",
            "grid_template_areas": null,
            "object_position": null,
            "object_fit": null,
            "grid_auto_columns": null,
            "margin": null,
            "display": null,
            "left": null
          }
        },
        "b37c60134c614d09a2e8769ddb7bfc4e": {
          "model_module": "@jupyter-widgets/controls",
          "model_name": "DescriptionStyleModel",
          "state": {
            "_view_name": "StyleView",
            "_model_name": "DescriptionStyleModel",
            "description_width": "",
            "_view_module": "@jupyter-widgets/base",
            "_model_module_version": "1.5.0",
            "_view_count": null,
            "_view_module_version": "1.2.0",
            "_model_module": "@jupyter-widgets/controls"
          }
        },
        "7502e047292b40028ccae16b05b17461": {
          "model_module": "@jupyter-widgets/base",
          "model_name": "LayoutModel",
          "state": {
            "_view_name": "LayoutView",
            "grid_template_rows": null,
            "right": null,
            "justify_content": null,
            "_view_module": "@jupyter-widgets/base",
            "overflow": null,
            "_model_module_version": "1.2.0",
            "_view_count": null,
            "flex_flow": null,
            "width": null,
            "min_width": null,
            "border": null,
            "align_items": null,
            "bottom": null,
            "_model_module": "@jupyter-widgets/base",
            "top": null,
            "grid_column": null,
            "overflow_y": null,
            "overflow_x": null,
            "grid_auto_flow": null,
            "grid_area": null,
            "grid_template_columns": null,
            "flex": null,
            "_model_name": "LayoutModel",
            "justify_items": null,
            "grid_row": null,
            "max_height": null,
            "align_content": null,
            "visibility": null,
            "align_self": null,
            "height": null,
            "min_height": null,
            "padding": null,
            "grid_auto_rows": null,
            "grid_gap": null,
            "max_width": null,
            "order": null,
            "_view_module_version": "1.2.0",
            "grid_template_areas": null,
            "object_position": null,
            "object_fit": null,
            "grid_auto_columns": null,
            "margin": null,
            "display": null,
            "left": null
          }
        },
        "f35a7d8759934f8cb5e5fc4ae8d265da": {
          "model_module": "@jupyter-widgets/controls",
          "model_name": "HBoxModel",
          "state": {
            "_view_name": "HBoxView",
            "_dom_classes": [],
            "_model_name": "HBoxModel",
            "_view_module": "@jupyter-widgets/controls",
            "_model_module_version": "1.5.0",
            "_view_count": null,
            "_view_module_version": "1.5.0",
            "box_style": "",
            "layout": "IPY_MODEL_2f346acdf3ba4aeb9dc4b0d132aa8fbd",
            "_model_module": "@jupyter-widgets/controls",
            "children": [
              "IPY_MODEL_d518ba23da8f4d5f8461eb8555d774fc",
              "IPY_MODEL_0902aaa1e92f49378a5d752a32996f2c"
            ]
          }
        },
        "2f346acdf3ba4aeb9dc4b0d132aa8fbd": {
          "model_module": "@jupyter-widgets/base",
          "model_name": "LayoutModel",
          "state": {
            "_view_name": "LayoutView",
            "grid_template_rows": null,
            "right": null,
            "justify_content": null,
            "_view_module": "@jupyter-widgets/base",
            "overflow": null,
            "_model_module_version": "1.2.0",
            "_view_count": null,
            "flex_flow": null,
            "width": null,
            "min_width": null,
            "border": null,
            "align_items": null,
            "bottom": null,
            "_model_module": "@jupyter-widgets/base",
            "top": null,
            "grid_column": null,
            "overflow_y": null,
            "overflow_x": null,
            "grid_auto_flow": null,
            "grid_area": null,
            "grid_template_columns": null,
            "flex": null,
            "_model_name": "LayoutModel",
            "justify_items": null,
            "grid_row": null,
            "max_height": null,
            "align_content": null,
            "visibility": null,
            "align_self": null,
            "height": null,
            "min_height": null,
            "padding": null,
            "grid_auto_rows": null,
            "grid_gap": null,
            "max_width": null,
            "order": null,
            "_view_module_version": "1.2.0",
            "grid_template_areas": null,
            "object_position": null,
            "object_fit": null,
            "grid_auto_columns": null,
            "margin": null,
            "display": null,
            "left": null
          }
        },
        "d518ba23da8f4d5f8461eb8555d774fc": {
          "model_module": "@jupyter-widgets/controls",
          "model_name": "FloatProgressModel",
          "state": {
            "_view_name": "ProgressView",
            "style": "IPY_MODEL_d504d75437214249b501a48dc71fb9f0",
            "_dom_classes": [],
            "description": "Dl Size...: 100%",
            "_model_name": "FloatProgressModel",
            "bar_style": "success",
            "max": 1,
            "_view_module": "@jupyter-widgets/controls",
            "_model_module_version": "1.5.0",
            "value": 1,
            "_view_count": null,
            "_view_module_version": "1.5.0",
            "orientation": "horizontal",
            "min": 0,
            "description_tooltip": null,
            "_model_module": "@jupyter-widgets/controls",
            "layout": "IPY_MODEL_117e296ea1b245cea17380fe33b9a0ae"
          }
        },
        "0902aaa1e92f49378a5d752a32996f2c": {
          "model_module": "@jupyter-widgets/controls",
          "model_name": "HTMLModel",
          "state": {
            "_view_name": "HTMLView",
            "style": "IPY_MODEL_f51416fe1a264a2b85af5f2b54a76aa6",
            "_dom_classes": [],
            "description": "",
            "_model_name": "HTMLModel",
            "placeholder": "​",
            "_view_module": "@jupyter-widgets/controls",
            "_model_module_version": "1.5.0",
            "value": " 219/219 [00:03&lt;00:00, 72.59 MiB/s]",
            "_view_count": null,
            "_view_module_version": "1.5.0",
            "description_tooltip": null,
            "_model_module": "@jupyter-widgets/controls",
            "layout": "IPY_MODEL_95a653758281440d8f0e99e7eed35ac9"
          }
        },
        "d504d75437214249b501a48dc71fb9f0": {
          "model_module": "@jupyter-widgets/controls",
          "model_name": "ProgressStyleModel",
          "state": {
            "_view_name": "StyleView",
            "_model_name": "ProgressStyleModel",
            "description_width": "initial",
            "_view_module": "@jupyter-widgets/base",
            "_model_module_version": "1.5.0",
            "_view_count": null,
            "_view_module_version": "1.2.0",
            "bar_color": null,
            "_model_module": "@jupyter-widgets/controls"
          }
        },
        "117e296ea1b245cea17380fe33b9a0ae": {
          "model_module": "@jupyter-widgets/base",
          "model_name": "LayoutModel",
          "state": {
            "_view_name": "LayoutView",
            "grid_template_rows": null,
            "right": null,
            "justify_content": null,
            "_view_module": "@jupyter-widgets/base",
            "overflow": null,
            "_model_module_version": "1.2.0",
            "_view_count": null,
            "flex_flow": null,
            "width": null,
            "min_width": null,
            "border": null,
            "align_items": null,
            "bottom": null,
            "_model_module": "@jupyter-widgets/base",
            "top": null,
            "grid_column": null,
            "overflow_y": null,
            "overflow_x": null,
            "grid_auto_flow": null,
            "grid_area": null,
            "grid_template_columns": null,
            "flex": null,
            "_model_name": "LayoutModel",
            "justify_items": null,
            "grid_row": null,
            "max_height": null,
            "align_content": null,
            "visibility": null,
            "align_self": null,
            "height": null,
            "min_height": null,
            "padding": null,
            "grid_auto_rows": null,
            "grid_gap": null,
            "max_width": null,
            "order": null,
            "_view_module_version": "1.2.0",
            "grid_template_areas": null,
            "object_position": null,
            "object_fit": null,
            "grid_auto_columns": null,
            "margin": null,
            "display": null,
            "left": null
          }
        },
        "f51416fe1a264a2b85af5f2b54a76aa6": {
          "model_module": "@jupyter-widgets/controls",
          "model_name": "DescriptionStyleModel",
          "state": {
            "_view_name": "StyleView",
            "_model_name": "DescriptionStyleModel",
            "description_width": "",
            "_view_module": "@jupyter-widgets/base",
            "_model_module_version": "1.5.0",
            "_view_count": null,
            "_view_module_version": "1.2.0",
            "_model_module": "@jupyter-widgets/controls"
          }
        },
        "95a653758281440d8f0e99e7eed35ac9": {
          "model_module": "@jupyter-widgets/base",
          "model_name": "LayoutModel",
          "state": {
            "_view_name": "LayoutView",
            "grid_template_rows": null,
            "right": null,
            "justify_content": null,
            "_view_module": "@jupyter-widgets/base",
            "overflow": null,
            "_model_module_version": "1.2.0",
            "_view_count": null,
            "flex_flow": null,
            "width": null,
            "min_width": null,
            "border": null,
            "align_items": null,
            "bottom": null,
            "_model_module": "@jupyter-widgets/base",
            "top": null,
            "grid_column": null,
            "overflow_y": null,
            "overflow_x": null,
            "grid_auto_flow": null,
            "grid_area": null,
            "grid_template_columns": null,
            "flex": null,
            "_model_name": "LayoutModel",
            "justify_items": null,
            "grid_row": null,
            "max_height": null,
            "align_content": null,
            "visibility": null,
            "align_self": null,
            "height": null,
            "min_height": null,
            "padding": null,
            "grid_auto_rows": null,
            "grid_gap": null,
            "max_width": null,
            "order": null,
            "_view_module_version": "1.2.0",
            "grid_template_areas": null,
            "object_position": null,
            "object_fit": null,
            "grid_auto_columns": null,
            "margin": null,
            "display": null,
            "left": null
          }
        },
        "0fb05ae212594165960800b8955852c7": {
          "model_module": "@jupyter-widgets/controls",
          "model_name": "HBoxModel",
          "state": {
            "_view_name": "HBoxView",
            "_dom_classes": [],
            "_model_name": "HBoxModel",
            "_view_module": "@jupyter-widgets/controls",
            "_model_module_version": "1.5.0",
            "_view_count": null,
            "_view_module_version": "1.5.0",
            "box_style": "",
            "layout": "IPY_MODEL_15d7c0291d75409985d375f47fbc45b6",
            "_model_module": "@jupyter-widgets/controls",
            "children": [
              "IPY_MODEL_1b4e590de3f244f58f1805e4f88e1c66",
              "IPY_MODEL_e3486068b24149bdbdeeb3744361930c"
            ]
          }
        },
        "15d7c0291d75409985d375f47fbc45b6": {
          "model_module": "@jupyter-widgets/base",
          "model_name": "LayoutModel",
          "state": {
            "_view_name": "LayoutView",
            "grid_template_rows": null,
            "right": null,
            "justify_content": null,
            "_view_module": "@jupyter-widgets/base",
            "overflow": null,
            "_model_module_version": "1.2.0",
            "_view_count": null,
            "flex_flow": null,
            "width": null,
            "min_width": null,
            "border": null,
            "align_items": null,
            "bottom": null,
            "_model_module": "@jupyter-widgets/base",
            "top": null,
            "grid_column": null,
            "overflow_y": null,
            "overflow_x": null,
            "grid_auto_flow": null,
            "grid_area": null,
            "grid_template_columns": null,
            "flex": null,
            "_model_name": "LayoutModel",
            "justify_items": null,
            "grid_row": null,
            "max_height": null,
            "align_content": null,
            "visibility": null,
            "align_self": null,
            "height": null,
            "min_height": null,
            "padding": null,
            "grid_auto_rows": null,
            "grid_gap": null,
            "max_width": null,
            "order": null,
            "_view_module_version": "1.2.0",
            "grid_template_areas": null,
            "object_position": null,
            "object_fit": null,
            "grid_auto_columns": null,
            "margin": null,
            "display": null,
            "left": null
          }
        },
        "1b4e590de3f244f58f1805e4f88e1c66": {
          "model_module": "@jupyter-widgets/controls",
          "model_name": "FloatProgressModel",
          "state": {
            "_view_name": "ProgressView",
            "style": "IPY_MODEL_3838e40c2c0f408ba083b3a75ef0faf7",
            "_dom_classes": [],
            "description": "",
            "_model_name": "FloatProgressModel",
            "bar_style": "info",
            "max": 1,
            "_view_module": "@jupyter-widgets/controls",
            "_model_module_version": "1.5.0",
            "value": 1,
            "_view_count": null,
            "_view_module_version": "1.5.0",
            "orientation": "horizontal",
            "min": 0,
            "description_tooltip": null,
            "_model_module": "@jupyter-widgets/controls",
            "layout": "IPY_MODEL_a2bb0ab350224e369642936c045b2aba"
          }
        },
        "e3486068b24149bdbdeeb3744361930c": {
          "model_module": "@jupyter-widgets/controls",
          "model_name": "HTMLModel",
          "state": {
            "_view_name": "HTMLView",
            "style": "IPY_MODEL_73376d9415954e16a775291f2f48d00a",
            "_dom_classes": [],
            "description": "",
            "_model_name": "HTMLModel",
            "placeholder": "​",
            "_view_module": "@jupyter-widgets/controls",
            "_model_module_version": "1.5.0",
            "value": " 2520/0 [00:01&lt;00:00, 1867.32 examples/s]",
            "_view_count": null,
            "_view_module_version": "1.5.0",
            "description_tooltip": null,
            "_model_module": "@jupyter-widgets/controls",
            "layout": "IPY_MODEL_1e5b486778784dd8aabe3d47f3c2daa6"
          }
        },
        "3838e40c2c0f408ba083b3a75ef0faf7": {
          "model_module": "@jupyter-widgets/controls",
          "model_name": "ProgressStyleModel",
          "state": {
            "_view_name": "StyleView",
            "_model_name": "ProgressStyleModel",
            "description_width": "initial",
            "_view_module": "@jupyter-widgets/base",
            "_model_module_version": "1.5.0",
            "_view_count": null,
            "_view_module_version": "1.2.0",
            "bar_color": null,
            "_model_module": "@jupyter-widgets/controls"
          }
        },
        "a2bb0ab350224e369642936c045b2aba": {
          "model_module": "@jupyter-widgets/base",
          "model_name": "LayoutModel",
          "state": {
            "_view_name": "LayoutView",
            "grid_template_rows": null,
            "right": null,
            "justify_content": null,
            "_view_module": "@jupyter-widgets/base",
            "overflow": null,
            "_model_module_version": "1.2.0",
            "_view_count": null,
            "flex_flow": null,
            "width": null,
            "min_width": null,
            "border": null,
            "align_items": null,
            "bottom": null,
            "_model_module": "@jupyter-widgets/base",
            "top": null,
            "grid_column": null,
            "overflow_y": null,
            "overflow_x": null,
            "grid_auto_flow": null,
            "grid_area": null,
            "grid_template_columns": null,
            "flex": null,
            "_model_name": "LayoutModel",
            "justify_items": null,
            "grid_row": null,
            "max_height": null,
            "align_content": null,
            "visibility": null,
            "align_self": null,
            "height": null,
            "min_height": null,
            "padding": null,
            "grid_auto_rows": null,
            "grid_gap": null,
            "max_width": null,
            "order": null,
            "_view_module_version": "1.2.0",
            "grid_template_areas": null,
            "object_position": null,
            "object_fit": null,
            "grid_auto_columns": null,
            "margin": null,
            "display": null,
            "left": null
          }
        },
        "73376d9415954e16a775291f2f48d00a": {
          "model_module": "@jupyter-widgets/controls",
          "model_name": "DescriptionStyleModel",
          "state": {
            "_view_name": "StyleView",
            "_model_name": "DescriptionStyleModel",
            "description_width": "",
            "_view_module": "@jupyter-widgets/base",
            "_model_module_version": "1.5.0",
            "_view_count": null,
            "_view_module_version": "1.2.0",
            "_model_module": "@jupyter-widgets/controls"
          }
        },
        "1e5b486778784dd8aabe3d47f3c2daa6": {
          "model_module": "@jupyter-widgets/base",
          "model_name": "LayoutModel",
          "state": {
            "_view_name": "LayoutView",
            "grid_template_rows": null,
            "right": null,
            "justify_content": null,
            "_view_module": "@jupyter-widgets/base",
            "overflow": null,
            "_model_module_version": "1.2.0",
            "_view_count": null,
            "flex_flow": null,
            "width": null,
            "min_width": null,
            "border": null,
            "align_items": null,
            "bottom": null,
            "_model_module": "@jupyter-widgets/base",
            "top": null,
            "grid_column": null,
            "overflow_y": null,
            "overflow_x": null,
            "grid_auto_flow": null,
            "grid_area": null,
            "grid_template_columns": null,
            "flex": null,
            "_model_name": "LayoutModel",
            "justify_items": null,
            "grid_row": null,
            "max_height": null,
            "align_content": null,
            "visibility": null,
            "align_self": null,
            "height": null,
            "min_height": null,
            "padding": null,
            "grid_auto_rows": null,
            "grid_gap": null,
            "max_width": null,
            "order": null,
            "_view_module_version": "1.2.0",
            "grid_template_areas": null,
            "object_position": null,
            "object_fit": null,
            "grid_auto_columns": null,
            "margin": null,
            "display": null,
            "left": null
          }
        },
        "138a179fe4184d798b91ba6ebbae0462": {
          "model_module": "@jupyter-widgets/controls",
          "model_name": "HBoxModel",
          "state": {
            "_view_name": "HBoxView",
            "_dom_classes": [],
            "_model_name": "HBoxModel",
            "_view_module": "@jupyter-widgets/controls",
            "_model_module_version": "1.5.0",
            "_view_count": null,
            "_view_module_version": "1.5.0",
            "box_style": "",
            "layout": "IPY_MODEL_e7f003d19a1b454c8f10d40a9f566bb1",
            "_model_module": "@jupyter-widgets/controls",
            "children": [
              "IPY_MODEL_1fa416ecbb7e4982bd3dc110a1b9ec10",
              "IPY_MODEL_bdf5257576b94b749cd9e5cd1dc1f083"
            ]
          }
        },
        "e7f003d19a1b454c8f10d40a9f566bb1": {
          "model_module": "@jupyter-widgets/base",
          "model_name": "LayoutModel",
          "state": {
            "_view_name": "LayoutView",
            "grid_template_rows": null,
            "right": null,
            "justify_content": null,
            "_view_module": "@jupyter-widgets/base",
            "overflow": null,
            "_model_module_version": "1.2.0",
            "_view_count": null,
            "flex_flow": null,
            "width": null,
            "min_width": null,
            "border": null,
            "align_items": null,
            "bottom": null,
            "_model_module": "@jupyter-widgets/base",
            "top": null,
            "grid_column": null,
            "overflow_y": null,
            "overflow_x": null,
            "grid_auto_flow": null,
            "grid_area": null,
            "grid_template_columns": null,
            "flex": null,
            "_model_name": "LayoutModel",
            "justify_items": null,
            "grid_row": null,
            "max_height": null,
            "align_content": null,
            "visibility": null,
            "align_self": null,
            "height": null,
            "min_height": null,
            "padding": null,
            "grid_auto_rows": null,
            "grid_gap": null,
            "max_width": null,
            "order": null,
            "_view_module_version": "1.2.0",
            "grid_template_areas": null,
            "object_position": null,
            "object_fit": null,
            "grid_auto_columns": null,
            "margin": null,
            "display": null,
            "left": null
          }
        },
        "1fa416ecbb7e4982bd3dc110a1b9ec10": {
          "model_module": "@jupyter-widgets/controls",
          "model_name": "FloatProgressModel",
          "state": {
            "_view_name": "ProgressView",
            "style": "IPY_MODEL_ce67c0d3bd4146e19507f5f4a42a143c",
            "_dom_classes": [],
            "description": " 98%",
            "_model_name": "FloatProgressModel",
            "bar_style": "danger",
            "max": 2520,
            "_view_module": "@jupyter-widgets/controls",
            "_model_module_version": "1.5.0",
            "value": 2469,
            "_view_count": null,
            "_view_module_version": "1.5.0",
            "orientation": "horizontal",
            "min": 0,
            "description_tooltip": null,
            "_model_module": "@jupyter-widgets/controls",
            "layout": "IPY_MODEL_91865e0a95454281a65b8ba77ed67b8d"
          }
        },
        "bdf5257576b94b749cd9e5cd1dc1f083": {
          "model_module": "@jupyter-widgets/controls",
          "model_name": "HTMLModel",
          "state": {
            "_view_name": "HTMLView",
            "style": "IPY_MODEL_5840c70036c34b6a9b386109b58419d3",
            "_dom_classes": [],
            "description": "",
            "_model_name": "HTMLModel",
            "placeholder": "​",
            "_view_module": "@jupyter-widgets/controls",
            "_model_module_version": "1.5.0",
            "value": " 2469/2520 [00:00&lt;00:00, 7616.08 examples/s]",
            "_view_count": null,
            "_view_module_version": "1.5.0",
            "description_tooltip": null,
            "_model_module": "@jupyter-widgets/controls",
            "layout": "IPY_MODEL_a0a96bbef19843b68e0b196c8b3a1161"
          }
        },
        "ce67c0d3bd4146e19507f5f4a42a143c": {
          "model_module": "@jupyter-widgets/controls",
          "model_name": "ProgressStyleModel",
          "state": {
            "_view_name": "StyleView",
            "_model_name": "ProgressStyleModel",
            "description_width": "initial",
            "_view_module": "@jupyter-widgets/base",
            "_model_module_version": "1.5.0",
            "_view_count": null,
            "_view_module_version": "1.2.0",
            "bar_color": null,
            "_model_module": "@jupyter-widgets/controls"
          }
        },
        "91865e0a95454281a65b8ba77ed67b8d": {
          "model_module": "@jupyter-widgets/base",
          "model_name": "LayoutModel",
          "state": {
            "_view_name": "LayoutView",
            "grid_template_rows": null,
            "right": null,
            "justify_content": null,
            "_view_module": "@jupyter-widgets/base",
            "overflow": null,
            "_model_module_version": "1.2.0",
            "_view_count": null,
            "flex_flow": null,
            "width": null,
            "min_width": null,
            "border": null,
            "align_items": null,
            "bottom": null,
            "_model_module": "@jupyter-widgets/base",
            "top": null,
            "grid_column": null,
            "overflow_y": null,
            "overflow_x": null,
            "grid_auto_flow": null,
            "grid_area": null,
            "grid_template_columns": null,
            "flex": null,
            "_model_name": "LayoutModel",
            "justify_items": null,
            "grid_row": null,
            "max_height": null,
            "align_content": null,
            "visibility": null,
            "align_self": null,
            "height": null,
            "min_height": null,
            "padding": null,
            "grid_auto_rows": null,
            "grid_gap": null,
            "max_width": null,
            "order": null,
            "_view_module_version": "1.2.0",
            "grid_template_areas": null,
            "object_position": null,
            "object_fit": null,
            "grid_auto_columns": null,
            "margin": null,
            "display": null,
            "left": null
          }
        },
        "5840c70036c34b6a9b386109b58419d3": {
          "model_module": "@jupyter-widgets/controls",
          "model_name": "DescriptionStyleModel",
          "state": {
            "_view_name": "StyleView",
            "_model_name": "DescriptionStyleModel",
            "description_width": "",
            "_view_module": "@jupyter-widgets/base",
            "_model_module_version": "1.5.0",
            "_view_count": null,
            "_view_module_version": "1.2.0",
            "_model_module": "@jupyter-widgets/controls"
          }
        },
        "a0a96bbef19843b68e0b196c8b3a1161": {
          "model_module": "@jupyter-widgets/base",
          "model_name": "LayoutModel",
          "state": {
            "_view_name": "LayoutView",
            "grid_template_rows": null,
            "right": null,
            "justify_content": null,
            "_view_module": "@jupyter-widgets/base",
            "overflow": null,
            "_model_module_version": "1.2.0",
            "_view_count": null,
            "flex_flow": null,
            "width": null,
            "min_width": null,
            "border": null,
            "align_items": null,
            "bottom": null,
            "_model_module": "@jupyter-widgets/base",
            "top": null,
            "grid_column": null,
            "overflow_y": null,
            "overflow_x": null,
            "grid_auto_flow": null,
            "grid_area": null,
            "grid_template_columns": null,
            "flex": null,
            "_model_name": "LayoutModel",
            "justify_items": null,
            "grid_row": null,
            "max_height": null,
            "align_content": null,
            "visibility": null,
            "align_self": null,
            "height": null,
            "min_height": null,
            "padding": null,
            "grid_auto_rows": null,
            "grid_gap": null,
            "max_width": null,
            "order": null,
            "_view_module_version": "1.2.0",
            "grid_template_areas": null,
            "object_position": null,
            "object_fit": null,
            "grid_auto_columns": null,
            "margin": null,
            "display": null,
            "left": null
          }
        },
        "686ee21761814603946251bf32da2bad": {
          "model_module": "@jupyter-widgets/controls",
          "model_name": "HBoxModel",
          "state": {
            "_view_name": "HBoxView",
            "_dom_classes": [],
            "_model_name": "HBoxModel",
            "_view_module": "@jupyter-widgets/controls",
            "_model_module_version": "1.5.0",
            "_view_count": null,
            "_view_module_version": "1.5.0",
            "box_style": "",
            "layout": "IPY_MODEL_ec126b6a13d04b5aa1960f8f399f1907",
            "_model_module": "@jupyter-widgets/controls",
            "children": [
              "IPY_MODEL_d8636a84796c47c8a542f0acb315da89",
              "IPY_MODEL_df21075788ee44a69d21c73cc9038825"
            ]
          }
        },
        "ec126b6a13d04b5aa1960f8f399f1907": {
          "model_module": "@jupyter-widgets/base",
          "model_name": "LayoutModel",
          "state": {
            "_view_name": "LayoutView",
            "grid_template_rows": null,
            "right": null,
            "justify_content": null,
            "_view_module": "@jupyter-widgets/base",
            "overflow": null,
            "_model_module_version": "1.2.0",
            "_view_count": null,
            "flex_flow": null,
            "width": null,
            "min_width": null,
            "border": null,
            "align_items": null,
            "bottom": null,
            "_model_module": "@jupyter-widgets/base",
            "top": null,
            "grid_column": null,
            "overflow_y": null,
            "overflow_x": null,
            "grid_auto_flow": null,
            "grid_area": null,
            "grid_template_columns": null,
            "flex": null,
            "_model_name": "LayoutModel",
            "justify_items": null,
            "grid_row": null,
            "max_height": null,
            "align_content": null,
            "visibility": null,
            "align_self": null,
            "height": null,
            "min_height": null,
            "padding": null,
            "grid_auto_rows": null,
            "grid_gap": null,
            "max_width": null,
            "order": null,
            "_view_module_version": "1.2.0",
            "grid_template_areas": null,
            "object_position": null,
            "object_fit": null,
            "grid_auto_columns": null,
            "margin": null,
            "display": null,
            "left": null
          }
        },
        "d8636a84796c47c8a542f0acb315da89": {
          "model_module": "@jupyter-widgets/controls",
          "model_name": "FloatProgressModel",
          "state": {
            "_view_name": "ProgressView",
            "style": "IPY_MODEL_ce74ba6af3454a7680f09f302b5a7d15",
            "_dom_classes": [],
            "description": "",
            "_model_name": "FloatProgressModel",
            "bar_style": "info",
            "max": 1,
            "_view_module": "@jupyter-widgets/controls",
            "_model_module_version": "1.5.0",
            "value": 1,
            "_view_count": null,
            "_view_module_version": "1.5.0",
            "orientation": "horizontal",
            "min": 0,
            "description_tooltip": null,
            "_model_module": "@jupyter-widgets/controls",
            "layout": "IPY_MODEL_25b1e9d139e942bf890cd6ac332f91c3"
          }
        },
        "df21075788ee44a69d21c73cc9038825": {
          "model_module": "@jupyter-widgets/controls",
          "model_name": "HTMLModel",
          "state": {
            "_view_name": "HTMLView",
            "style": "IPY_MODEL_7de01021495b436081554a4de44313e4",
            "_dom_classes": [],
            "description": "",
            "_model_name": "HTMLModel",
            "placeholder": "​",
            "_view_module": "@jupyter-widgets/controls",
            "_model_module_version": "1.5.0",
            "value": " 372/0 [00:00&lt;00:00, 1217.07 examples/s]",
            "_view_count": null,
            "_view_module_version": "1.5.0",
            "description_tooltip": null,
            "_model_module": "@jupyter-widgets/controls",
            "layout": "IPY_MODEL_16dbbcfc0da84475b8b507a007d4ce00"
          }
        },
        "ce74ba6af3454a7680f09f302b5a7d15": {
          "model_module": "@jupyter-widgets/controls",
          "model_name": "ProgressStyleModel",
          "state": {
            "_view_name": "StyleView",
            "_model_name": "ProgressStyleModel",
            "description_width": "initial",
            "_view_module": "@jupyter-widgets/base",
            "_model_module_version": "1.5.0",
            "_view_count": null,
            "_view_module_version": "1.2.0",
            "bar_color": null,
            "_model_module": "@jupyter-widgets/controls"
          }
        },
        "25b1e9d139e942bf890cd6ac332f91c3": {
          "model_module": "@jupyter-widgets/base",
          "model_name": "LayoutModel",
          "state": {
            "_view_name": "LayoutView",
            "grid_template_rows": null,
            "right": null,
            "justify_content": null,
            "_view_module": "@jupyter-widgets/base",
            "overflow": null,
            "_model_module_version": "1.2.0",
            "_view_count": null,
            "flex_flow": null,
            "width": null,
            "min_width": null,
            "border": null,
            "align_items": null,
            "bottom": null,
            "_model_module": "@jupyter-widgets/base",
            "top": null,
            "grid_column": null,
            "overflow_y": null,
            "overflow_x": null,
            "grid_auto_flow": null,
            "grid_area": null,
            "grid_template_columns": null,
            "flex": null,
            "_model_name": "LayoutModel",
            "justify_items": null,
            "grid_row": null,
            "max_height": null,
            "align_content": null,
            "visibility": null,
            "align_self": null,
            "height": null,
            "min_height": null,
            "padding": null,
            "grid_auto_rows": null,
            "grid_gap": null,
            "max_width": null,
            "order": null,
            "_view_module_version": "1.2.0",
            "grid_template_areas": null,
            "object_position": null,
            "object_fit": null,
            "grid_auto_columns": null,
            "margin": null,
            "display": null,
            "left": null
          }
        },
        "7de01021495b436081554a4de44313e4": {
          "model_module": "@jupyter-widgets/controls",
          "model_name": "DescriptionStyleModel",
          "state": {
            "_view_name": "StyleView",
            "_model_name": "DescriptionStyleModel",
            "description_width": "",
            "_view_module": "@jupyter-widgets/base",
            "_model_module_version": "1.5.0",
            "_view_count": null,
            "_view_module_version": "1.2.0",
            "_model_module": "@jupyter-widgets/controls"
          }
        },
        "16dbbcfc0da84475b8b507a007d4ce00": {
          "model_module": "@jupyter-widgets/base",
          "model_name": "LayoutModel",
          "state": {
            "_view_name": "LayoutView",
            "grid_template_rows": null,
            "right": null,
            "justify_content": null,
            "_view_module": "@jupyter-widgets/base",
            "overflow": null,
            "_model_module_version": "1.2.0",
            "_view_count": null,
            "flex_flow": null,
            "width": null,
            "min_width": null,
            "border": null,
            "align_items": null,
            "bottom": null,
            "_model_module": "@jupyter-widgets/base",
            "top": null,
            "grid_column": null,
            "overflow_y": null,
            "overflow_x": null,
            "grid_auto_flow": null,
            "grid_area": null,
            "grid_template_columns": null,
            "flex": null,
            "_model_name": "LayoutModel",
            "justify_items": null,
            "grid_row": null,
            "max_height": null,
            "align_content": null,
            "visibility": null,
            "align_self": null,
            "height": null,
            "min_height": null,
            "padding": null,
            "grid_auto_rows": null,
            "grid_gap": null,
            "max_width": null,
            "order": null,
            "_view_module_version": "1.2.0",
            "grid_template_areas": null,
            "object_position": null,
            "object_fit": null,
            "grid_auto_columns": null,
            "margin": null,
            "display": null,
            "left": null
          }
        },
        "22c8a9de28dc474d913f8ae20aa21aa8": {
          "model_module": "@jupyter-widgets/controls",
          "model_name": "HBoxModel",
          "state": {
            "_view_name": "HBoxView",
            "_dom_classes": [],
            "_model_name": "HBoxModel",
            "_view_module": "@jupyter-widgets/controls",
            "_model_module_version": "1.5.0",
            "_view_count": null,
            "_view_module_version": "1.5.0",
            "box_style": "",
            "layout": "IPY_MODEL_17854a109c07474697d968762e2b2a88",
            "_model_module": "@jupyter-widgets/controls",
            "children": [
              "IPY_MODEL_ded7b2c3c4354443b0d21035241d2516",
              "IPY_MODEL_3efa522d906647d986521ec21d4ee3ea"
            ]
          }
        },
        "17854a109c07474697d968762e2b2a88": {
          "model_module": "@jupyter-widgets/base",
          "model_name": "LayoutModel",
          "state": {
            "_view_name": "LayoutView",
            "grid_template_rows": null,
            "right": null,
            "justify_content": null,
            "_view_module": "@jupyter-widgets/base",
            "overflow": null,
            "_model_module_version": "1.2.0",
            "_view_count": null,
            "flex_flow": null,
            "width": null,
            "min_width": null,
            "border": null,
            "align_items": null,
            "bottom": null,
            "_model_module": "@jupyter-widgets/base",
            "top": null,
            "grid_column": null,
            "overflow_y": null,
            "overflow_x": null,
            "grid_auto_flow": null,
            "grid_area": null,
            "grid_template_columns": null,
            "flex": null,
            "_model_name": "LayoutModel",
            "justify_items": null,
            "grid_row": null,
            "max_height": null,
            "align_content": null,
            "visibility": null,
            "align_self": null,
            "height": null,
            "min_height": null,
            "padding": null,
            "grid_auto_rows": null,
            "grid_gap": null,
            "max_width": null,
            "order": null,
            "_view_module_version": "1.2.0",
            "grid_template_areas": null,
            "object_position": null,
            "object_fit": null,
            "grid_auto_columns": null,
            "margin": null,
            "display": null,
            "left": null
          }
        },
        "ded7b2c3c4354443b0d21035241d2516": {
          "model_module": "@jupyter-widgets/controls",
          "model_name": "FloatProgressModel",
          "state": {
            "_view_name": "ProgressView",
            "style": "IPY_MODEL_b28247edbdf54973b044c3546515a2ea",
            "_dom_classes": [],
            "description": "  0%",
            "_model_name": "FloatProgressModel",
            "bar_style": "danger",
            "max": 372,
            "_view_module": "@jupyter-widgets/controls",
            "_model_module_version": "1.5.0",
            "value": 0,
            "_view_count": null,
            "_view_module_version": "1.5.0",
            "orientation": "horizontal",
            "min": 0,
            "description_tooltip": null,
            "_model_module": "@jupyter-widgets/controls",
            "layout": "IPY_MODEL_afed7792f23446b7ade764b5d79c3054"
          }
        },
        "3efa522d906647d986521ec21d4ee3ea": {
          "model_module": "@jupyter-widgets/controls",
          "model_name": "HTMLModel",
          "state": {
            "_view_name": "HTMLView",
            "style": "IPY_MODEL_ffacbbb8745148f397125555daf6765d",
            "_dom_classes": [],
            "description": "",
            "_model_name": "HTMLModel",
            "placeholder": "​",
            "_view_module": "@jupyter-widgets/controls",
            "_model_module_version": "1.5.0",
            "value": " 0/372 [00:00&lt;?, ? examples/s]",
            "_view_count": null,
            "_view_module_version": "1.5.0",
            "description_tooltip": null,
            "_model_module": "@jupyter-widgets/controls",
            "layout": "IPY_MODEL_f162e9a6649b4731954a9454a8c4b08b"
          }
        },
        "b28247edbdf54973b044c3546515a2ea": {
          "model_module": "@jupyter-widgets/controls",
          "model_name": "ProgressStyleModel",
          "state": {
            "_view_name": "StyleView",
            "_model_name": "ProgressStyleModel",
            "description_width": "initial",
            "_view_module": "@jupyter-widgets/base",
            "_model_module_version": "1.5.0",
            "_view_count": null,
            "_view_module_version": "1.2.0",
            "bar_color": null,
            "_model_module": "@jupyter-widgets/controls"
          }
        },
        "afed7792f23446b7ade764b5d79c3054": {
          "model_module": "@jupyter-widgets/base",
          "model_name": "LayoutModel",
          "state": {
            "_view_name": "LayoutView",
            "grid_template_rows": null,
            "right": null,
            "justify_content": null,
            "_view_module": "@jupyter-widgets/base",
            "overflow": null,
            "_model_module_version": "1.2.0",
            "_view_count": null,
            "flex_flow": null,
            "width": null,
            "min_width": null,
            "border": null,
            "align_items": null,
            "bottom": null,
            "_model_module": "@jupyter-widgets/base",
            "top": null,
            "grid_column": null,
            "overflow_y": null,
            "overflow_x": null,
            "grid_auto_flow": null,
            "grid_area": null,
            "grid_template_columns": null,
            "flex": null,
            "_model_name": "LayoutModel",
            "justify_items": null,
            "grid_row": null,
            "max_height": null,
            "align_content": null,
            "visibility": null,
            "align_self": null,
            "height": null,
            "min_height": null,
            "padding": null,
            "grid_auto_rows": null,
            "grid_gap": null,
            "max_width": null,
            "order": null,
            "_view_module_version": "1.2.0",
            "grid_template_areas": null,
            "object_position": null,
            "object_fit": null,
            "grid_auto_columns": null,
            "margin": null,
            "display": null,
            "left": null
          }
        },
        "ffacbbb8745148f397125555daf6765d": {
          "model_module": "@jupyter-widgets/controls",
          "model_name": "DescriptionStyleModel",
          "state": {
            "_view_name": "StyleView",
            "_model_name": "DescriptionStyleModel",
            "description_width": "",
            "_view_module": "@jupyter-widgets/base",
            "_model_module_version": "1.5.0",
            "_view_count": null,
            "_view_module_version": "1.2.0",
            "_model_module": "@jupyter-widgets/controls"
          }
        },
        "f162e9a6649b4731954a9454a8c4b08b": {
          "model_module": "@jupyter-widgets/base",
          "model_name": "LayoutModel",
          "state": {
            "_view_name": "LayoutView",
            "grid_template_rows": null,
            "right": null,
            "justify_content": null,
            "_view_module": "@jupyter-widgets/base",
            "overflow": null,
            "_model_module_version": "1.2.0",
            "_view_count": null,
            "flex_flow": null,
            "width": null,
            "min_width": null,
            "border": null,
            "align_items": null,
            "bottom": null,
            "_model_module": "@jupyter-widgets/base",
            "top": null,
            "grid_column": null,
            "overflow_y": null,
            "overflow_x": null,
            "grid_auto_flow": null,
            "grid_area": null,
            "grid_template_columns": null,
            "flex": null,
            "_model_name": "LayoutModel",
            "justify_items": null,
            "grid_row": null,
            "max_height": null,
            "align_content": null,
            "visibility": null,
            "align_self": null,
            "height": null,
            "min_height": null,
            "padding": null,
            "grid_auto_rows": null,
            "grid_gap": null,
            "max_width": null,
            "order": null,
            "_view_module_version": "1.2.0",
            "grid_template_areas": null,
            "object_position": null,
            "object_fit": null,
            "grid_auto_columns": null,
            "margin": null,
            "display": null,
            "left": null
          }
        }
      }
    }
  },
  "cells": [
    {
      "cell_type": "markdown",
      "metadata": {
        "id": "view-in-github"
      },
      "source": [
        "# Rock, Paper, Scissors\n",
        "\n",
        "In this week’s exercise, you will use [TFDS module](https://www.tensorflow.org/datasets/api_docs/python/tfds) for performing extract, transform and load (ETL) tasks on the [Rock-Paper-Scissors dataset](https://www.tensorflow.org/datasets/catalog/rock_paper_scissors). \n",
        "\n",
        "Upon completion of the exercise, you will have\n",
        "\n",
        "- Loaded the dataset\n",
        "- Transformed and preprocessed it \n",
        "- Defined a simple CNN model for image classification which can be trained easily\n",
        "\n"
      ]
    },
    {
      "cell_type": "code",
      "metadata": {
        "id": "YfAiw-W1H1vm"
      },
      "source": [
        "from os import getcwd\n",
        "\n",
        "import tensorflow as tf\n",
        "import tensorflow_datasets as tfds"
      ],
      "execution_count": null,
      "outputs": []
    },
    {
      "cell_type": "code",
      "metadata": {
        "id": "O17V5925QOLR"
      },
      "source": [
        "tf.keras.backend.clear_session()\n",
        "tf.random.set_seed(51)\n",
        "np.random.seed(51)\n"
      ],
      "execution_count": null,
      "outputs": []
    },
    {
      "cell_type": "markdown",
      "metadata": {
        "id": "eVRqbXCvH1vm"
      },
      "source": [
        "### Step 1 - One-Hot Encoding \n",
        "\n",
        "Remember to one hot encode the labels as you have 3 classes - Rock, Paper and Scissors.\n",
        "You can use Tensorflow's one_hot function ([`tf.one_hot`](https://www.tensorflow.org/api_docs/python/tf/one_hot)) to convert categorical variables to one-hot vectors.\n",
        "\n",
        "Useful parameters - \n",
        "1. `indices` - A tensor containing all indices\n",
        "2. `depth` - A scalar defining the depth of the one hot dimension.\n"
      ]
    },
    {
      "cell_type": "code",
      "metadata": {
        "colab": {
          "base_uri": "https://localhost:8080/"
        },
        "id": "kqbd37W_H1vm",
        "outputId": "8106e78c-4625-4a8f-a03e-1aeeba839a96"
      },
      "source": [
        "def my_one_hot(feature, label): \n",
        "    one_hot = tf.one_hot(label, depth=3)\n",
        "    return feature, one_hot\n",
        " \n",
        "_,one_hot = my_one_hot([\"a\",\"b\",\"c\",\"a\"],[1,2,3,1])\n",
        "print(one_hot)\n",
        "\n",
        "_,one_hot = my_one_hot([\"a\",\"b\",\"c\",\"a\"], 2)\n",
        "print(one_hot)\n"
      ],
      "execution_count": null,
      "outputs": [
        {
          "output_type": "stream",
          "text": [
            "tf.Tensor(\n",
            "[[0. 1. 0.]\n",
            " [0. 0. 1.]\n",
            " [0. 0. 0.]\n",
            " [0. 1. 0.]], shape=(4, 3), dtype=float32)\n",
            "tf.Tensor([0. 0. 1.], shape=(3,), dtype=float32)\n"
          ],
          "name": "stdout"
        }
      ]
    },
    {
      "cell_type": "markdown",
      "metadata": {
        "id": "zd79i7VNH1vn"
      },
      "source": [
        "#### Expected Output\n",
        "```\n",
        "tf.Tensor(\n",
        "[[0. 1. 0.]\n",
        " [0. 0. 1.]\n",
        " [0. 0. 0.]\n",
        " [0. 1. 0.]], shape=(4, 3), dtype=float32)\n",
        " ```"
      ]
    },
    {
      "cell_type": "markdown",
      "metadata": {
        "id": "0gzM6N19H1vn"
      },
      "source": [
        "### Step 2 - Loading Dataset\n",
        "\n",
        "You will be using [`tfds.load()`](https://www.tensorflow.org/datasets/api_docs/python/tfds/load)] method to load the dataset. The dataset is already downloaded and unzipped for you in the data folder but if you are running on your local machine and do not have the dataset downloaded, it will first download and save the dataset to your tensorflow directory and then load it.\n",
        "\n",
        "Useful parameters -\n",
        "1. `split` - Which split of the data to load (e.g. 'train', 'test' ['train', 'test'], 'train[80%:]',...)\n",
        "\n",
        "2. `data_dir` - Directory to read/write data. Defaults to the value of the environment variable _TFDS_DATA_DIR_, if set, otherwise falls back to \"~/tensorflow_datasets\"\n",
        "\n",
        "3. `as_supervised`- If True, the returned tf.data.Dataset will have a 2-tuple structure (input, label) according to builder.info.supervised_keys. If False the default, the returned tf.data.Dataset will have a dictionary with all the features\n",
        "\n",
        "**Note** - The`rock_paper_scissors:3.*.*` dataset is already downloaded for you so if you specify the major version thisway while loading, it will try to find the dataset from the directory and load it. If none is present or the current dataset has been upgraded to a new major version, then it will try to download the new dataset to the directory."
      ]
    },
    {
      "cell_type": "code",
      "metadata": {
        "colab": {
          "base_uri": "https://localhost:8080/",
          "height": 315,
          "referenced_widgets": [
            "8593de529114462490b97b3be2b3e80d",
            "15ebba6d45a9465d975039041f117b48",
            "efd7156ab5af494a8b73e5468d1b30d0",
            "a928dad8bf094a28bdc2abe004335b84",
            "3ac1a2617a65411db63ffab00324c81b",
            "639ffd2c2d014a098180caf2e740c090",
            "b37c60134c614d09a2e8769ddb7bfc4e",
            "7502e047292b40028ccae16b05b17461",
            "f35a7d8759934f8cb5e5fc4ae8d265da",
            "2f346acdf3ba4aeb9dc4b0d132aa8fbd",
            "d518ba23da8f4d5f8461eb8555d774fc",
            "0902aaa1e92f49378a5d752a32996f2c",
            "d504d75437214249b501a48dc71fb9f0",
            "117e296ea1b245cea17380fe33b9a0ae",
            "f51416fe1a264a2b85af5f2b54a76aa6",
            "95a653758281440d8f0e99e7eed35ac9",
            "0fb05ae212594165960800b8955852c7",
            "15d7c0291d75409985d375f47fbc45b6",
            "1b4e590de3f244f58f1805e4f88e1c66",
            "e3486068b24149bdbdeeb3744361930c",
            "3838e40c2c0f408ba083b3a75ef0faf7",
            "a2bb0ab350224e369642936c045b2aba",
            "73376d9415954e16a775291f2f48d00a",
            "1e5b486778784dd8aabe3d47f3c2daa6",
            "138a179fe4184d798b91ba6ebbae0462",
            "e7f003d19a1b454c8f10d40a9f566bb1",
            "1fa416ecbb7e4982bd3dc110a1b9ec10",
            "bdf5257576b94b749cd9e5cd1dc1f083",
            "ce67c0d3bd4146e19507f5f4a42a143c",
            "91865e0a95454281a65b8ba77ed67b8d",
            "5840c70036c34b6a9b386109b58419d3",
            "a0a96bbef19843b68e0b196c8b3a1161",
            "686ee21761814603946251bf32da2bad",
            "ec126b6a13d04b5aa1960f8f399f1907",
            "d8636a84796c47c8a542f0acb315da89",
            "df21075788ee44a69d21c73cc9038825",
            "ce74ba6af3454a7680f09f302b5a7d15",
            "25b1e9d139e942bf890cd6ac332f91c3",
            "7de01021495b436081554a4de44313e4",
            "16dbbcfc0da84475b8b507a007d4ce00",
            "22c8a9de28dc474d913f8ae20aa21aa8",
            "17854a109c07474697d968762e2b2a88",
            "ded7b2c3c4354443b0d21035241d2516",
            "3efa522d906647d986521ec21d4ee3ea",
            "b28247edbdf54973b044c3546515a2ea",
            "afed7792f23446b7ade764b5d79c3054",
            "ffacbbb8745148f397125555daf6765d",
            "f162e9a6649b4731954a9454a8c4b08b"
          ]
        },
        "id": "_gw7LYE0H1vn",
        "outputId": "d48987c3-ac90-46c6-b2a4-0784eb414364"
      },
      "source": [
        "train_data = tfds.load(name=\"rock_paper_scissors\", split=\"train\", as_supervised=True)\n",
        "val_data   = tfds.load(name=\"rock_paper_scissors\", split=\"test\",  as_supervised=True)\n",
        " \n",
        "    \n",
        "train_data_len = len(list(train_data))\n",
        "val_data_len = len(list(val_data))\n",
        "\n",
        "print(train_data_len)\n",
        "print(val_data_len)\n"
      ],
      "execution_count": null,
      "outputs": [
        {
          "output_type": "stream",
          "text": [
            "\u001b[1mDownloading and preparing dataset rock_paper_scissors/3.0.0 (download: 219.53 MiB, generated: Unknown size, total: 219.53 MiB) to /root/tensorflow_datasets/rock_paper_scissors/3.0.0...\u001b[0m\n"
          ],
          "name": "stdout"
        },
        {
          "output_type": "display_data",
          "data": {
            "application/vnd.jupyter.widget-view+json": {
              "model_id": "8593de529114462490b97b3be2b3e80d",
              "version_minor": 0,
              "version_major": 2
            },
            "text/plain": [
              "HBox(children=(FloatProgress(value=1.0, bar_style='info', description='Dl Completed...', max=1.0, style=Progre…"
            ]
          },
          "metadata": {
            "tags": []
          }
        },
        {
          "output_type": "display_data",
          "data": {
            "application/vnd.jupyter.widget-view+json": {
              "model_id": "f35a7d8759934f8cb5e5fc4ae8d265da",
              "version_minor": 0,
              "version_major": 2
            },
            "text/plain": [
              "HBox(children=(FloatProgress(value=1.0, bar_style='info', description='Dl Size...', max=1.0, style=ProgressSty…"
            ]
          },
          "metadata": {
            "tags": []
          }
        },
        {
          "output_type": "stream",
          "text": [
            "\n",
            "\n",
            "\n",
            "\n"
          ],
          "name": "stdout"
        },
        {
          "output_type": "display_data",
          "data": {
            "application/vnd.jupyter.widget-view+json": {
              "model_id": "0fb05ae212594165960800b8955852c7",
              "version_minor": 0,
              "version_major": 2
            },
            "text/plain": [
              "HBox(children=(FloatProgress(value=1.0, bar_style='info', max=1.0), HTML(value='')))"
            ]
          },
          "metadata": {
            "tags": []
          }
        },
        {
          "output_type": "stream",
          "text": [
            "\rShuffling and writing examples to /root/tensorflow_datasets/rock_paper_scissors/3.0.0.incompleteHUYT16/rock_paper_scissors-train.tfrecord\n"
          ],
          "name": "stdout"
        },
        {
          "output_type": "display_data",
          "data": {
            "application/vnd.jupyter.widget-view+json": {
              "model_id": "138a179fe4184d798b91ba6ebbae0462",
              "version_minor": 0,
              "version_major": 2
            },
            "text/plain": [
              "HBox(children=(FloatProgress(value=0.0, max=2520.0), HTML(value='')))"
            ]
          },
          "metadata": {
            "tags": []
          }
        },
        {
          "output_type": "stream",
          "text": [
            "\r"
          ],
          "name": "stdout"
        },
        {
          "output_type": "display_data",
          "data": {
            "application/vnd.jupyter.widget-view+json": {
              "model_id": "686ee21761814603946251bf32da2bad",
              "version_minor": 0,
              "version_major": 2
            },
            "text/plain": [
              "HBox(children=(FloatProgress(value=1.0, bar_style='info', max=1.0), HTML(value='')))"
            ]
          },
          "metadata": {
            "tags": []
          }
        },
        {
          "output_type": "stream",
          "text": [
            "\rShuffling and writing examples to /root/tensorflow_datasets/rock_paper_scissors/3.0.0.incompleteHUYT16/rock_paper_scissors-test.tfrecord\n"
          ],
          "name": "stdout"
        },
        {
          "output_type": "display_data",
          "data": {
            "application/vnd.jupyter.widget-view+json": {
              "model_id": "22c8a9de28dc474d913f8ae20aa21aa8",
              "version_minor": 0,
              "version_major": 2
            },
            "text/plain": [
              "HBox(children=(FloatProgress(value=0.0, max=372.0), HTML(value='')))"
            ]
          },
          "metadata": {
            "tags": []
          }
        },
        {
          "output_type": "stream",
          "text": [
            "\u001b[1mDataset rock_paper_scissors downloaded and prepared to /root/tensorflow_datasets/rock_paper_scissors/3.0.0. Subsequent calls will reuse this data.\u001b[0m\n",
            "\r2520\n",
            "372\n"
          ],
          "name": "stdout"
        }
      ]
    },
    {
      "cell_type": "markdown",
      "metadata": {
        "id": "lJq6G4NMH1vn"
      },
      "source": [
        "#### Expected Output\n",
        "```\n",
        "2520\n",
        "372\n",
        " ```"
      ]
    },
    {
      "cell_type": "markdown",
      "metadata": {
        "id": "IxwpKcdMH1vn"
      },
      "source": [
        "### Step 3 - Mapping one hot encode function to dataset\n",
        "\n",
        "You will apply the `my_one_hot()` encoding function to the train and validation data using [`map`](https://www.tensorflow.org/api_docs/python/tf/data/Dataset#map) function. It will apply the custom function to each element of the  dataset and returns a new dataset containing the transformed elements in the same order as they appeared in the input."
      ]
    },
    {
      "cell_type": "code",
      "metadata": {
        "colab": {
          "base_uri": "https://localhost:8080/"
        },
        "id": "wVnXeHE_H1vo",
        "outputId": "c69ba7a1-724f-46c4-978f-e18d646d0318"
      },
      "source": [
        "train_data = train_data.map(lambda x, y: (x/255, int(my_one_hot([1,2,3],y)[1])))\n",
        "val_data   = val_data.map  (lambda x, y: (x/255, int(my_one_hot([1,2,3],y)[1])))\n",
        "\n",
        "print(type(train_data))"
      ],
      "execution_count": null,
      "outputs": [
        {
          "output_type": "stream",
          "text": [
            "<class 'tensorflow.python.data.ops.dataset_ops.MapDataset'>\n"
          ],
          "name": "stdout"
        }
      ]
    },
    {
      "cell_type": "markdown",
      "metadata": {
        "id": "JIP_DoPZH1vo"
      },
      "source": [
        "#### Expected Output\n",
        "```\n",
        "<class 'tensorflow.python.data.ops.dataset_ops.MapDataset'>\n",
        " ```"
      ]
    },
    {
      "cell_type": "markdown",
      "metadata": {
        "id": "UHgRcn_hH1vo"
      },
      "source": [
        "### Step 4 - Exploring dataset metadata\n",
        "\n",
        "Do remember that [`tfds.load()`](https://www.tensorflow.org/datasets/api_docs/python/tfds/load) has a parameter called `with_info` which if True will return the tuple (tf.data.Dataset, tfds.core.DatasetInfo) containing the info associated with the builder."
      ]
    },
    {
      "cell_type": "code",
      "metadata": {
        "colab": {
          "base_uri": "https://localhost:8080/"
        },
        "id": "PtRa228FH1vo",
        "outputId": "add258ce-1fcb-409d-cdd1-76bce96d6f04"
      },
      "source": [
        "_,info = tfds.load(name=\"rock_paper_scissors\", with_info=True)\n",
        "print(info.features['image'].shape)\n"
      ],
      "execution_count": null,
      "outputs": [
        {
          "output_type": "stream",
          "text": [
            "(300, 300, 3)\n"
          ],
          "name": "stdout"
        }
      ]
    },
    {
      "cell_type": "markdown",
      "metadata": {
        "id": "YXe9YfAPH1vo"
      },
      "source": [
        "## Expected Output\n",
        "```\n",
        "(300, 300, 3)\n",
        "\n",
        " ```"
      ]
    },
    {
      "cell_type": "markdown",
      "metadata": {
        "id": "3Om5a1BbH1vo"
      },
      "source": [
        "### Step 5 - Training your simple CNN classifier\n",
        "\n",
        "Now you will define a simple 1-layer CNN model which will learn to classify the images into rock, paper and scissor!\n"
      ]
    },
    {
      "cell_type": "code",
      "metadata": {
        "id": "iSq4t32ZHHpt"
      },
      "source": [
        "model = tf.keras.models.Sequential([\n",
        "    tf.keras.layers.Conv2D(128, (3, 3), activation='relu', input_shape=(300, 300, 3)),                       \n",
        "    tf.keras.layers.MaxPooling2D(pool_size=2, padding=\"valid\"),   \n",
        "    tf.keras.layers.Dropout(.2),\n",
        "\n",
        "    tf.keras.layers.Conv2D(filters=256, \n",
        "                         kernel_size=2, \n",
        "                         activation=tf.keras.activations.relu), \n",
        "    tf.keras.layers.MaxPooling2D(pool_size=2, padding=\"valid\"),  \n",
        "    tf.keras.layers.Dropout(.2),\n",
        "\n",
        "    tf.keras.layers.Conv2D(filters=1024, \n",
        "                         kernel_size=2, \n",
        "                         activation=tf.keras.activations.relu), \n",
        "    tf.keras.layers.MaxPooling2D(pool_size=2, padding=\"valid\"),    \n",
        "    tf.keras.layers.Dropout(.2),\n",
        "\n",
        "    tf.keras.layers.Flatten(),                                     \n",
        "    tf.keras.layers.Dense(3, activation=tf.keras.activations.softmax)\n",
        "])\n"
      ],
      "execution_count": null,
      "outputs": []
    },
    {
      "cell_type": "code",
      "metadata": {
        "colab": {
          "base_uri": "https://localhost:8080/"
        },
        "id": "AUzny60-H1vp",
        "outputId": "7b565176-a2d5-482f-e2f1-45f6ddfe9237"
      },
      "source": [
        "model.compile(optimizer=tf.keras.optimizers.Adam(),\n",
        "              loss=tf.keras.losses.CategoricalCrossentropy(),\n",
        "              metrics=[\"accuracy\"])\n",
        "model.summary() \n"
      ],
      "execution_count": null,
      "outputs": [
        {
          "output_type": "stream",
          "text": [
            "Model: \"sequential\"\n",
            "_________________________________________________________________\n",
            "Layer (type)                 Output Shape              Param #   \n",
            "=================================================================\n",
            "conv2d (Conv2D)              (None, 298, 298, 128)     3584      \n",
            "_________________________________________________________________\n",
            "max_pooling2d (MaxPooling2D) (None, 149, 149, 128)     0         \n",
            "_________________________________________________________________\n",
            "dropout (Dropout)            (None, 149, 149, 128)     0         \n",
            "_________________________________________________________________\n",
            "conv2d_1 (Conv2D)            (None, 148, 148, 256)     131328    \n",
            "_________________________________________________________________\n",
            "max_pooling2d_1 (MaxPooling2 (None, 74, 74, 256)       0         \n",
            "_________________________________________________________________\n",
            "dropout_1 (Dropout)          (None, 74, 74, 256)       0         \n",
            "_________________________________________________________________\n",
            "conv2d_2 (Conv2D)            (None, 73, 73, 1024)      1049600   \n",
            "_________________________________________________________________\n",
            "max_pooling2d_2 (MaxPooling2 (None, 36, 36, 1024)      0         \n",
            "_________________________________________________________________\n",
            "dropout_2 (Dropout)          (None, 36, 36, 1024)      0         \n",
            "_________________________________________________________________\n",
            "flatten (Flatten)            (None, 1327104)           0         \n",
            "_________________________________________________________________\n",
            "dense (Dense)                (None, 3)                 3981315   \n",
            "=================================================================\n",
            "Total params: 5,165,827\n",
            "Trainable params: 5,165,827\n",
            "Non-trainable params: 0\n",
            "_________________________________________________________________\n"
          ],
          "name": "stdout"
        }
      ]
    },
    {
      "cell_type": "code",
      "metadata": {
        "id": "8PSO-OoNgCl_"
      },
      "source": [
        "train_batches = train_data.shuffle(100).batch(10)\n",
        "validation_batches = val_data.batch(32)\n"
      ],
      "execution_count": null,
      "outputs": []
    },
    {
      "cell_type": "code",
      "metadata": {
        "colab": {
          "base_uri": "https://localhost:8080/"
        },
        "id": "4mst_hp1H1vp",
        "outputId": "044cf8a9-a923-4bef-e4bd-312539ffbb8b"
      },
      "source": [
        "history = model.fit(train_batches, \n",
        "                    epochs=100,\n",
        "                    validation_data=validation_batches, \n",
        "                    validation_steps=1)\n"
      ],
      "execution_count": null,
      "outputs": [
        {
          "output_type": "stream",
          "text": [
            "Epoch 1/100\n",
            "252/252 [==============================] - 53s 142ms/step - loss: 3.2954 - accuracy: 0.5698 - val_loss: 1.9158 - val_accuracy: 0.4688\n",
            "Epoch 2/100\n",
            "252/252 [==============================] - 32s 126ms/step - loss: 0.0438 - accuracy: 0.9897 - val_loss: 1.1289 - val_accuracy: 0.6562\n",
            "Epoch 3/100\n",
            "252/252 [==============================] - 32s 126ms/step - loss: 0.0294 - accuracy: 0.9904 - val_loss: 2.2445 - val_accuracy: 0.6250\n",
            "Epoch 4/100\n",
            "252/252 [==============================] - 32s 126ms/step - loss: 0.0032 - accuracy: 0.9990 - val_loss: 2.1312 - val_accuracy: 0.6875\n",
            "Epoch 5/100\n",
            "252/252 [==============================] - 32s 126ms/step - loss: 0.0753 - accuracy: 0.9815 - val_loss: 2.0508 - val_accuracy: 0.6250\n",
            "Epoch 6/100\n",
            "252/252 [==============================] - 32s 126ms/step - loss: 0.4982 - accuracy: 0.9057 - val_loss: 3.1947 - val_accuracy: 0.5625\n",
            "Epoch 7/100\n",
            "252/252 [==============================] - 32s 126ms/step - loss: 0.0018 - accuracy: 0.9997 - val_loss: 3.5189 - val_accuracy: 0.6250\n",
            "Epoch 8/100\n",
            "252/252 [==============================] - 32s 126ms/step - loss: 0.0129 - accuracy: 0.9970 - val_loss: 3.0185 - val_accuracy: 0.6562\n",
            "Epoch 9/100\n",
            "252/252 [==============================] - 32s 126ms/step - loss: 0.0083 - accuracy: 0.9973 - val_loss: 2.4138 - val_accuracy: 0.6875\n",
            "Epoch 10/100\n",
            "252/252 [==============================] - 32s 126ms/step - loss: 0.0016 - accuracy: 1.0000 - val_loss: 3.2728 - val_accuracy: 0.6250\n",
            "Epoch 11/100\n",
            "252/252 [==============================] - 32s 126ms/step - loss: 7.6470e-05 - accuracy: 1.0000 - val_loss: 3.3322 - val_accuracy: 0.6250\n",
            "Epoch 12/100\n",
            "252/252 [==============================] - 32s 126ms/step - loss: 7.2682e-05 - accuracy: 1.0000 - val_loss: 3.2010 - val_accuracy: 0.6562\n",
            "Epoch 13/100\n",
            "252/252 [==============================] - 32s 126ms/step - loss: 3.7565e-05 - accuracy: 1.0000 - val_loss: 3.3838 - val_accuracy: 0.6250\n",
            "Epoch 14/100\n",
            "252/252 [==============================] - 32s 126ms/step - loss: 1.6524e-05 - accuracy: 1.0000 - val_loss: 3.4516 - val_accuracy: 0.6250\n",
            "Epoch 15/100\n",
            "252/252 [==============================] - 32s 126ms/step - loss: 1.0741e-05 - accuracy: 1.0000 - val_loss: 3.4711 - val_accuracy: 0.6250\n",
            "Epoch 16/100\n",
            "252/252 [==============================] - 32s 126ms/step - loss: 8.2441e-06 - accuracy: 1.0000 - val_loss: 3.5215 - val_accuracy: 0.6562\n",
            "Epoch 17/100\n",
            "252/252 [==============================] - 32s 126ms/step - loss: 1.1332e-05 - accuracy: 1.0000 - val_loss: 3.5930 - val_accuracy: 0.6562\n",
            "Epoch 18/100\n",
            "252/252 [==============================] - 32s 126ms/step - loss: 1.1331e-05 - accuracy: 1.0000 - val_loss: 3.6411 - val_accuracy: 0.6562\n",
            "Epoch 19/100\n",
            "252/252 [==============================] - 32s 126ms/step - loss: 4.3973e-06 - accuracy: 1.0000 - val_loss: 3.6447 - val_accuracy: 0.6562\n",
            "Epoch 20/100\n",
            "252/252 [==============================] - 32s 126ms/step - loss: 2.1929e-06 - accuracy: 1.0000 - val_loss: 3.6389 - val_accuracy: 0.6562\n",
            "Epoch 21/100\n",
            "252/252 [==============================] - 32s 126ms/step - loss: 4.5691e-06 - accuracy: 1.0000 - val_loss: 3.6829 - val_accuracy: 0.6562\n",
            "Epoch 22/100\n",
            "252/252 [==============================] - 32s 126ms/step - loss: 2.2438e-05 - accuracy: 1.0000 - val_loss: 3.7894 - val_accuracy: 0.6562\n",
            "Epoch 23/100\n",
            "252/252 [==============================] - 32s 126ms/step - loss: 4.1035e-06 - accuracy: 1.0000 - val_loss: 3.8626 - val_accuracy: 0.6562\n",
            "Epoch 24/100\n",
            "252/252 [==============================] - 32s 127ms/step - loss: 1.6789e-06 - accuracy: 1.0000 - val_loss: 3.8408 - val_accuracy: 0.6562\n",
            "Epoch 25/100\n",
            "252/252 [==============================] - 32s 126ms/step - loss: 2.7264e-05 - accuracy: 1.0000 - val_loss: 4.2381 - val_accuracy: 0.6250\n",
            "Epoch 26/100\n",
            "252/252 [==============================] - 32s 126ms/step - loss: 1.7186e-05 - accuracy: 1.0000 - val_loss: 3.6697 - val_accuracy: 0.5938\n",
            "Epoch 27/100\n",
            "252/252 [==============================] - 32s 127ms/step - loss: 1.1841e-05 - accuracy: 1.0000 - val_loss: 3.9653 - val_accuracy: 0.5938\n",
            "Epoch 28/100\n",
            "252/252 [==============================] - 32s 126ms/step - loss: 6.7102e-06 - accuracy: 1.0000 - val_loss: 4.1205 - val_accuracy: 0.5938\n",
            "Epoch 29/100\n",
            "252/252 [==============================] - 32s 126ms/step - loss: 6.1299e-06 - accuracy: 1.0000 - val_loss: 4.0315 - val_accuracy: 0.5938\n",
            "Epoch 30/100\n",
            "252/252 [==============================] - 32s 126ms/step - loss: 0.1631 - accuracy: 0.9818 - val_loss: 0.6717 - val_accuracy: 0.6875\n",
            "Epoch 31/100\n",
            "252/252 [==============================] - 32s 126ms/step - loss: 0.1486 - accuracy: 0.9517 - val_loss: 0.7175 - val_accuracy: 0.7188\n",
            "Epoch 32/100\n",
            "252/252 [==============================] - 32s 126ms/step - loss: 0.0236 - accuracy: 0.9933 - val_loss: 1.0871 - val_accuracy: 0.7500\n",
            "Epoch 33/100\n",
            "252/252 [==============================] - 32s 126ms/step - loss: 0.0153 - accuracy: 0.9943 - val_loss: 0.6957 - val_accuracy: 0.8125\n",
            "Epoch 34/100\n",
            "252/252 [==============================] - 32s 126ms/step - loss: 0.0061 - accuracy: 0.9980 - val_loss: 0.7298 - val_accuracy: 0.7500\n",
            "Epoch 35/100\n",
            "252/252 [==============================] - 32s 126ms/step - loss: 0.0065 - accuracy: 0.9981 - val_loss: 1.1612 - val_accuracy: 0.7812\n",
            "Epoch 36/100\n",
            "252/252 [==============================] - 32s 126ms/step - loss: 0.0052 - accuracy: 0.9967 - val_loss: 0.8489 - val_accuracy: 0.7812\n",
            "Epoch 37/100\n",
            "252/252 [==============================] - 32s 126ms/step - loss: 0.0029 - accuracy: 0.9984 - val_loss: 1.3112 - val_accuracy: 0.6875\n",
            "Epoch 38/100\n",
            "252/252 [==============================] - 32s 126ms/step - loss: 0.0017 - accuracy: 0.9996 - val_loss: 1.3246 - val_accuracy: 0.7812\n",
            "Epoch 39/100\n",
            "252/252 [==============================] - 32s 126ms/step - loss: 2.4274e-04 - accuracy: 1.0000 - val_loss: 1.5398 - val_accuracy: 0.7812\n",
            "Epoch 40/100\n",
            "252/252 [==============================] - 32s 126ms/step - loss: 5.7103e-04 - accuracy: 1.0000 - val_loss: 1.8084 - val_accuracy: 0.7188\n",
            "Epoch 41/100\n",
            "252/252 [==============================] - 32s 126ms/step - loss: 0.0055 - accuracy: 0.9991 - val_loss: 1.4359 - val_accuracy: 0.7812\n",
            "Epoch 42/100\n",
            "252/252 [==============================] - 32s 126ms/step - loss: 0.5773 - accuracy: 0.9305 - val_loss: 2.4238 - val_accuracy: 0.8125\n",
            "Epoch 43/100\n",
            "252/252 [==============================] - 32s 126ms/step - loss: 0.0198 - accuracy: 0.9932 - val_loss: 4.1868 - val_accuracy: 0.7812\n",
            "Epoch 44/100\n",
            "252/252 [==============================] - 32s 126ms/step - loss: 0.0163 - accuracy: 0.9932 - val_loss: 3.0539 - val_accuracy: 0.8125\n",
            "Epoch 45/100\n",
            "252/252 [==============================] - 32s 126ms/step - loss: 4.4646e-05 - accuracy: 1.0000 - val_loss: 3.1986 - val_accuracy: 0.8125\n",
            "Epoch 46/100\n",
            "252/252 [==============================] - 32s 126ms/step - loss: 0.0068 - accuracy: 0.9974 - val_loss: 4.0335 - val_accuracy: 0.8125\n",
            "Epoch 47/100\n",
            "252/252 [==============================] - 32s 126ms/step - loss: 0.0088 - accuracy: 0.9960 - val_loss: 2.5383 - val_accuracy: 0.7812\n",
            "Epoch 48/100\n",
            "252/252 [==============================] - 32s 126ms/step - loss: 0.0128 - accuracy: 0.9978 - val_loss: 3.9282 - val_accuracy: 0.7812\n",
            "Epoch 49/100\n",
            "252/252 [==============================] - 32s 126ms/step - loss: 0.0018 - accuracy: 0.9988 - val_loss: 4.2511 - val_accuracy: 0.7812\n",
            "Epoch 50/100\n",
            "252/252 [==============================] - 32s 126ms/step - loss: 3.1851e-04 - accuracy: 1.0000 - val_loss: 4.9140 - val_accuracy: 0.7812\n",
            "Epoch 51/100\n",
            "252/252 [==============================] - 32s 126ms/step - loss: 0.0280 - accuracy: 0.9979 - val_loss: 3.3364 - val_accuracy: 0.8750\n",
            "Epoch 52/100\n",
            "252/252 [==============================] - 32s 127ms/step - loss: 0.2847 - accuracy: 0.9845 - val_loss: 7.1087 - val_accuracy: 0.6250\n",
            "Epoch 53/100\n",
            "252/252 [==============================] - 32s 126ms/step - loss: 0.0239 - accuracy: 0.9963 - val_loss: 7.8618 - val_accuracy: 0.6562\n",
            "Epoch 54/100\n",
            "252/252 [==============================] - 32s 126ms/step - loss: 0.0021 - accuracy: 0.9989 - val_loss: 8.2358 - val_accuracy: 0.6562\n",
            "Epoch 55/100\n",
            "252/252 [==============================] - 32s 127ms/step - loss: 9.5264e-04 - accuracy: 0.9999 - val_loss: 14.0192 - val_accuracy: 0.5625\n",
            "Epoch 56/100\n",
            "252/252 [==============================] - 32s 126ms/step - loss: 0.0065 - accuracy: 0.9986 - val_loss: 10.2620 - val_accuracy: 0.6250\n",
            "Epoch 57/100\n",
            "252/252 [==============================] - 32s 126ms/step - loss: 2.3639e-05 - accuracy: 1.0000 - val_loss: 10.1055 - val_accuracy: 0.6250\n",
            "Epoch 58/100\n",
            "252/252 [==============================] - 32s 126ms/step - loss: 6.4688e-05 - accuracy: 1.0000 - val_loss: 9.2422 - val_accuracy: 0.6250\n",
            "Epoch 59/100\n",
            "252/252 [==============================] - 32s 127ms/step - loss: 8.6507e-06 - accuracy: 1.0000 - val_loss: 9.2979 - val_accuracy: 0.6250\n",
            "Epoch 60/100\n",
            "252/252 [==============================] - 32s 126ms/step - loss: 7.9319e-04 - accuracy: 0.9991 - val_loss: 9.5937 - val_accuracy: 0.6250\n",
            "Epoch 61/100\n",
            "252/252 [==============================] - 32s 126ms/step - loss: 4.2873e-04 - accuracy: 0.9999 - val_loss: 15.7720 - val_accuracy: 0.6875\n",
            "Epoch 62/100\n",
            "252/252 [==============================] - 32s 127ms/step - loss: 0.1072 - accuracy: 0.9946 - val_loss: 11.1526 - val_accuracy: 0.6875\n",
            "Epoch 63/100\n",
            "252/252 [==============================] - 32s 126ms/step - loss: 0.0026 - accuracy: 0.9991 - val_loss: 6.3143 - val_accuracy: 0.7188\n",
            "Epoch 64/100\n",
            "252/252 [==============================] - 32s 126ms/step - loss: 4.7303e-04 - accuracy: 1.0000 - val_loss: 6.5628 - val_accuracy: 0.7188\n",
            "Epoch 65/100\n",
            "252/252 [==============================] - 32s 127ms/step - loss: 1.5869e-05 - accuracy: 1.0000 - val_loss: 6.6866 - val_accuracy: 0.7188\n",
            "Epoch 66/100\n",
            "252/252 [==============================] - 32s 127ms/step - loss: 6.2891e-06 - accuracy: 1.0000 - val_loss: 6.7112 - val_accuracy: 0.7188\n",
            "Epoch 67/100\n",
            "252/252 [==============================] - 32s 127ms/step - loss: 5.2396e-04 - accuracy: 0.9998 - val_loss: 6.4724 - val_accuracy: 0.7188\n",
            "Epoch 68/100\n",
            "252/252 [==============================] - 32s 127ms/step - loss: 1.8052e-06 - accuracy: 1.0000 - val_loss: 6.5104 - val_accuracy: 0.7188\n",
            "Epoch 69/100\n",
            "252/252 [==============================] - 32s 126ms/step - loss: 4.0095e-06 - accuracy: 1.0000 - val_loss: 6.5634 - val_accuracy: 0.7188\n",
            "Epoch 70/100\n",
            "252/252 [==============================] - 32s 126ms/step - loss: 7.8306e-06 - accuracy: 1.0000 - val_loss: 6.6248 - val_accuracy: 0.7188\n",
            "Epoch 71/100\n",
            "252/252 [==============================] - 32s 126ms/step - loss: 1.1568e-05 - accuracy: 1.0000 - val_loss: 6.6996 - val_accuracy: 0.7188\n",
            "Epoch 72/100\n",
            "252/252 [==============================] - 32s 127ms/step - loss: 5.2035e-07 - accuracy: 1.0000 - val_loss: 6.7078 - val_accuracy: 0.7188\n",
            "Epoch 73/100\n",
            "252/252 [==============================] - 32s 126ms/step - loss: 8.6782e-06 - accuracy: 1.0000 - val_loss: 6.8099 - val_accuracy: 0.7188\n",
            "Epoch 74/100\n",
            "252/252 [==============================] - 32s 126ms/step - loss: 3.9713e-07 - accuracy: 1.0000 - val_loss: 6.8174 - val_accuracy: 0.7188\n",
            "Epoch 75/100\n",
            "252/252 [==============================] - 32s 126ms/step - loss: 3.1882e-06 - accuracy: 1.0000 - val_loss: 6.8429 - val_accuracy: 0.7188\n",
            "Epoch 76/100\n",
            "252/252 [==============================] - 32s 126ms/step - loss: 1.9245e-06 - accuracy: 1.0000 - val_loss: 6.8647 - val_accuracy: 0.7188\n",
            "Epoch 77/100\n",
            "252/252 [==============================] - 32s 126ms/step - loss: 2.4475e-06 - accuracy: 1.0000 - val_loss: 6.8823 - val_accuracy: 0.7188\n",
            "Epoch 78/100\n",
            "252/252 [==============================] - 32s 126ms/step - loss: 1.1048e-06 - accuracy: 1.0000 - val_loss: 6.8982 - val_accuracy: 0.7188\n",
            "Epoch 79/100\n",
            "252/252 [==============================] - 32s 126ms/step - loss: 0.0026 - accuracy: 0.9989 - val_loss: 6.8640 - val_accuracy: 0.7188\n",
            "Epoch 80/100\n",
            "252/252 [==============================] - 32s 127ms/step - loss: 0.0136 - accuracy: 0.9974 - val_loss: 18.3883 - val_accuracy: 0.6875\n",
            "Epoch 81/100\n",
            "252/252 [==============================] - 32s 126ms/step - loss: 0.0386 - accuracy: 0.9977 - val_loss: 9.8048 - val_accuracy: 0.8125\n",
            "Epoch 82/100\n",
            "252/252 [==============================] - 32s 126ms/step - loss: 0.0046 - accuracy: 0.9984 - val_loss: 8.3626 - val_accuracy: 0.7812\n",
            "Epoch 83/100\n",
            "252/252 [==============================] - 32s 126ms/step - loss: 0.0011 - accuracy: 0.9991 - val_loss: 8.9857 - val_accuracy: 0.7500\n",
            "Epoch 84/100\n",
            "252/252 [==============================] - 32s 126ms/step - loss: 3.2484e-05 - accuracy: 1.0000 - val_loss: 9.0231 - val_accuracy: 0.7500\n",
            "Epoch 85/100\n",
            "252/252 [==============================] - 32s 126ms/step - loss: 0.0126 - accuracy: 0.9990 - val_loss: 8.3652 - val_accuracy: 0.6875\n",
            "Epoch 86/100\n",
            "252/252 [==============================] - 32s 126ms/step - loss: 0.0043 - accuracy: 0.9997 - val_loss: 6.5655 - val_accuracy: 0.7812\n",
            "Epoch 87/100\n",
            "252/252 [==============================] - 32s 126ms/step - loss: 0.0112 - accuracy: 0.9991 - val_loss: 14.6193 - val_accuracy: 0.6562\n",
            "Epoch 88/100\n",
            "252/252 [==============================] - 32s 126ms/step - loss: 0.0323 - accuracy: 0.9981 - val_loss: 9.6241 - val_accuracy: 0.8438\n",
            "Epoch 89/100\n",
            "252/252 [==============================] - 32s 126ms/step - loss: 4.4671e-05 - accuracy: 1.0000 - val_loss: 9.8555 - val_accuracy: 0.8438\n",
            "Epoch 90/100\n",
            "252/252 [==============================] - 32s 126ms/step - loss: 2.5508e-09 - accuracy: 1.0000 - val_loss: 9.8493 - val_accuracy: 0.8438\n",
            "Epoch 91/100\n",
            "252/252 [==============================] - 32s 126ms/step - loss: 2.8139e-05 - accuracy: 1.0000 - val_loss: 8.4332 - val_accuracy: 0.8750\n",
            "Epoch 92/100\n",
            "252/252 [==============================] - 32s 126ms/step - loss: 1.0627e-06 - accuracy: 1.0000 - val_loss: 10.4927 - val_accuracy: 0.8750\n",
            "Epoch 93/100\n",
            "252/252 [==============================] - 32s 126ms/step - loss: 0.0074 - accuracy: 0.9978 - val_loss: 8.2069 - val_accuracy: 0.7812\n",
            "Epoch 94/100\n",
            "252/252 [==============================] - 32s 126ms/step - loss: 0.2114 - accuracy: 0.9858 - val_loss: 12.9251 - val_accuracy: 0.5625\n",
            "Epoch 95/100\n",
            "252/252 [==============================] - 32s 126ms/step - loss: 9.6282e-04 - accuracy: 0.9995 - val_loss: 10.3608 - val_accuracy: 0.6875\n",
            "Epoch 96/100\n",
            "252/252 [==============================] - 32s 126ms/step - loss: 1.6150e-04 - accuracy: 1.0000 - val_loss: 11.4747 - val_accuracy: 0.6562\n",
            "Epoch 97/100\n",
            "252/252 [==============================] - 32s 126ms/step - loss: 5.2587e-09 - accuracy: 1.0000 - val_loss: 11.4405 - val_accuracy: 0.6562\n",
            "Epoch 98/100\n",
            "252/252 [==============================] - 32s 127ms/step - loss: 8.1327e-11 - accuracy: 1.0000 - val_loss: 11.4397 - val_accuracy: 0.6562\n",
            "Epoch 99/100\n",
            "252/252 [==============================] - 32s 127ms/step - loss: 7.7440e-08 - accuracy: 1.0000 - val_loss: 11.5054 - val_accuracy: 0.6562\n",
            "Epoch 100/100\n",
            "252/252 [==============================] - 32s 127ms/step - loss: 5.4299e-08 - accuracy: 1.0000 - val_loss: 11.1863 - val_accuracy: 0.6562\n"
          ],
          "name": "stdout"
        }
      ]
    },
    {
      "cell_type": "code",
      "metadata": {
        "id": "7aHu_8TfgggP"
      },
      "source": [
        "import matplotlib.pyplot as plt\n",
        "\n",
        "def plot(history, m, label, title):\n",
        "  print([k for k in history.history])\n",
        "  v = history.history[m]\n",
        "  val_v = history.history[f\"val_{m}\"]\n",
        "\n",
        "  epochs = range(1, len(v) + 1)\n",
        "\n",
        "  plt.plot(epochs, v, 'b', label=label)\n",
        "  plt.plot(epochs, val_v, 'r', label=f\"val_{label}\")\n",
        "\n",
        "  plt.title(title)\n",
        "\n",
        "  plt.xlabel('Epochs')\n",
        "  plt.ylabel(label)\n",
        "\n",
        "  plt.legend()\n",
        "  plt.show()\n",
        "  "
      ],
      "execution_count": null,
      "outputs": []
    },
    {
      "cell_type": "code",
      "metadata": {
        "id": "0FmNo3S1gjb7",
        "colab": {
          "base_uri": "https://localhost:8080/",
          "height": 312
        },
        "outputId": "2b6f40f0-fe76-4a1a-a11a-f8ca330a7ffc"
      },
      "source": [
        "plot(history, \"accuracy\", \"accuracy\", \"Train & Validation accuracy\")\n"
      ],
      "execution_count": null,
      "outputs": [
        {
          "output_type": "stream",
          "text": [
            "['loss', 'accuracy', 'val_loss', 'val_accuracy']\n"
          ],
          "name": "stdout"
        },
        {
          "output_type": "display_data",
          "data": {
            "image/png": "[encoded data removed]",
            "text/plain": [
              "<Figure size 432x288 with 1 Axes>"
            ]
          },
          "metadata": {
            "tags": [],
            "needs_background": "light"
          }
        }
      ]
    },
    {
      "cell_type": "code",
      "metadata": {
        "id": "Z1-s4wYrgjVK",
        "colab": {
          "base_uri": "https://localhost:8080/",
          "height": 312
        },
        "outputId": "193d6a61-ce2e-4619-f9bc-c88dd661d238"
      },
      "source": [
        "plot(history, \"loss\", \"loss\", \"Train & Validation loss\")\n"
      ],
      "execution_count": null,
      "outputs": [
        {
          "output_type": "stream",
          "text": [
            "['loss', 'accuracy', 'val_loss', 'val_accuracy']\n"
          ],
          "name": "stdout"
        },
        {
          "output_type": "display_data",
          "data": {
            "image/png": "[encoded data removed]",
            "text/plain": [
              "<Figure size 432x288 with 1 Axes>"
            ]
          },
          "metadata": {
            "tags": [],
            "needs_background": "light"
          }
        }
      ]
    }
  ]
}