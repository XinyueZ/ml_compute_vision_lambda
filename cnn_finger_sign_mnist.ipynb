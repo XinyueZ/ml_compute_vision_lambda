{
  "nbformat": 4,
  "nbformat_minor": 0,
  "metadata": {
    "colab": {
      "name": "“Exercise 8  finger_sign_mnist - Question.ipynb”的副本",
      "provenance": [],
      "machine_shape": "hm"
    },
    "kernelspec": {
      "display_name": "Python 3",
      "name": "python3"
    },
    "accelerator": "GPU"
  },
  "cells": [
    {
      "cell_type": "code",
      "metadata": {
        "id": "zX4Kg8DUTKWO"
      },
      "source": [
        "#@title Licensed under the Apache License, Version 2.0 (the \"License\");\n",
        "# you may not use this file except in compliance with the License.\n",
        "# You may obtain a copy of the License at\n",
        "#\n",
        "# https://www.apache.org/licenses/LICENSE-2.0\n",
        "#\n",
        "# Unless required by applicable law or agreed to in writing, software\n",
        "# distributed under the License is distributed on an \"AS IS\" BASIS,\n",
        "# WITHOUT WARRANTIES OR CONDITIONS OF ANY KIND, either express or implied.\n",
        "# See the License for the specific language governing permissions and\n",
        "# limitations under the License."
      ],
      "execution_count": 54,
      "outputs": []
    },
    {
      "cell_type": "code",
      "metadata": {
        "id": "wYtuKeK0dImp"
      },
      "source": [
        "import os\n",
        "import csv\n",
        "import numpy as np\n",
        "import tensorflow as tf\n",
        "from google.colab import files\n",
        "from tensorflow.keras.preprocessing.image import ImageDataGenerator\n",
        "from tensorflow.keras.preprocessing.image import NumpyArrayIterator\n"
      ],
      "execution_count": 55,
      "outputs": []
    },
    {
      "cell_type": "code",
      "metadata": {
        "id": "DXvRRssQdsCE"
      },
      "source": [
        "tf.keras.backend.clear_session()\n",
        "tf.random.set_seed(51)\n",
        "np.random.seed(51)\n"
      ],
      "execution_count": null,
      "outputs": []
    },
    {
      "cell_type": "code",
      "metadata": {
        "id": "sODNYOIQZ7_b"
      },
      "source": [
        "# Origin definition of 25 signs which the finger can represent is at kaggle.com:\n",
        "# https://www.kaggle.com/datamunge/sign-language-mnist/home\n",
        "# Here is the direct download linke which can ease the training task.\n",
        "\n",
        "test_data  = \"https://dl.dropbox.com/s/awxlruqspsyv8qx/sign_mnist_test.csv\"\n",
        "train_data = \"https://dl.dropbox.com/s/aj9maocoap59i14/sign_mnist_train.csv\"\n",
        "\n",
        "R_PATH = \"/tmp\" # Host directory to put downloads\n",
        "test_file = os.path.join(R_PATH, \"sign_mnist_test.csv\")\n",
        "train_file = os.path.join(R_PATH, \"sign_mnist_train.csv\")\n"
      ],
      "execution_count": 56,
      "outputs": []
    },
    {
      "cell_type": "code",
      "metadata": {
        "id": "sD7L4v3HaOYL"
      },
      "source": [
        "def download_file(source, dest_dir):\n",
        "    \"\"\"Download file\n",
        "    :param source: Location of source file.\n",
        "    :param dest_dir: Location to put downloaded file, the extract place is the same otherwise.\n",
        "    \"\"\"\n",
        "    assert (dest_dir is not None)\n",
        "    from tensorflow.python.keras.utils.data_utils import get_file\n",
        "\n",
        "    print(f\"Download to {dest_dir}\")\n",
        "    return get_file(fname=dest_dir, origin=source)\n"
      ],
      "execution_count": 57,
      "outputs": []
    },
    {
      "cell_type": "code",
      "metadata": {
        "colab": {
          "base_uri": "https://localhost:8080/"
        },
        "id": "UfinxI7Nb24L",
        "outputId": "92e1b74e-f8ca-4cfb-d42d-75aa43516ab7"
      },
      "source": [
        "f = download_file(test_data, f\"{R_PATH}/sign_mnist_test.csv\")\n",
        "print(f\"Just downloaded: {f}\")\n",
        "\n",
        "f = download_file(train_data, f\"{R_PATH}/sign_mnist_train.csv\")\n",
        "print(f\"Just downloaded: {f}\")\n"
      ],
      "execution_count": 58,
      "outputs": [
        {
          "output_type": "stream",
          "text": [
            "Download to /tmp/sign_mnist_test.csv\n",
            "Just downloaded: /tmp/sign_mnist_test.csv\n",
            "Download to /tmp/sign_mnist_train.csv\n",
            "Just downloaded: /tmp/sign_mnist_train.csv\n"
          ],
          "name": "stdout"
        }
      ]
    },
    {
      "cell_type": "code",
      "metadata": {
        "id": "wsq460a0bJVj"
      },
      "source": [
        "def get_data(filename):\n",
        "  assert (filename is not None)\n",
        "\n",
        "  with open(filename) as f:\n",
        "    reader = csv.reader(f, delimiter=\",\")\n",
        "    next(reader)\n",
        "\n",
        "    images = []\n",
        "    labels = []\n",
        "    for row in reader:\n",
        "      labels.append(row[0])\n",
        "\n",
        "      px = row[1:785]\n",
        "      ma_px = np.array_split(px, 28)\n",
        "      images.append(ma_px)\n",
        "\n",
        "    return np.array(images).astype(float), np.array(labels).astype(int)\n",
        "    "
      ],
      "execution_count": 59,
      "outputs": []
    },
    {
      "cell_type": "code",
      "metadata": {
        "id": "4kxw-_rmcnVu",
        "colab": {
          "base_uri": "https://localhost:8080/"
        },
        "outputId": "2fa622f5-e607-4acc-f48b-10d22a9cf551"
      },
      "source": [
        "training_images, training_labels = get_data(train_file)\n",
        "testing_images, testing_labels = get_data(test_file)\n",
        "\n",
        "# Keep these\n",
        "print(training_images.shape)\n",
        "print(training_labels.shape)\n",
        "print(testing_images.shape)\n",
        "print(testing_labels.shape)\n",
        "\n",
        "# Their output should be:\n",
        "# (27455, 28, 28)\n",
        "# (27455,)\n",
        "# (7172, 28, 28)\n",
        "# (7172,)"
      ],
      "execution_count": 60,
      "outputs": [
        {
          "output_type": "stream",
          "text": [
            "(27455, 28, 28)\n",
            "(27455,)\n",
            "(7172, 28, 28)\n",
            "(7172,)\n"
          ],
          "name": "stdout"
        }
      ]
    },
    {
      "cell_type": "code",
      "metadata": {
        "id": "awoqRpyZdQkD",
        "colab": {
          "base_uri": "https://localhost:8080/"
        },
        "outputId": "a040ad8c-703f-4ce0-dd29-9acdc4fb9c24"
      },
      "source": [
        "training_images = np.expand_dims(training_images, axis=-1)\n",
        "testing_images = np.expand_dims(testing_images, axis=-1)\n",
        "\n",
        "# Create an ImageDataGenerator and do Image Augmentation\n",
        "train_datagen = ImageDataGenerator(\n",
        "    rescale = 1./255.,\n",
        "    horizontal_flip=True, \n",
        "    vertical_flip=True,\n",
        "    width_shift_range=0.1, \n",
        "    height_shift_range=0.1, \n",
        "    shear_range=0.1, \n",
        "    zoom_range=0.1, \n",
        ")\n",
        "\n",
        "training_data = NumpyArrayIterator(x=training_images, y=training_labels, \n",
        "                                   image_data_generator=train_datagen)\n",
        "\n",
        "validation_datagen = ImageDataGenerator(\n",
        "    rescale = 1./255.\n",
        ")\n",
        "\n",
        "validation_data = NumpyArrayIterator(x=testing_images, y=testing_labels,\n",
        "                                     image_data_generator=validation_datagen)\n",
        "\n",
        "# Keep These\n",
        "print(training_images.shape)\n",
        "print(testing_images.shape)\n",
        "    \n",
        "# Their output should be:\n",
        "# (27455, 28, 28, 1)\n",
        "# (7172, 28, 28, 1)"
      ],
      "execution_count": 61,
      "outputs": [
        {
          "output_type": "stream",
          "text": [
            "(27455, 28, 28, 1)\n",
            "(7172, 28, 28, 1)\n"
          ],
          "name": "stdout"
        }
      ]
    },
    {
      "cell_type": "code",
      "metadata": {
        "id": "Rmb7S32cgRqS",
        "colab": {
          "base_uri": "https://localhost:8080/"
        },
        "outputId": "9f8f655b-e303-4dc2-d0a8-6706df8fb609"
      },
      "source": [
        "# Define the model\n",
        "model = tf.keras.models.Sequential([ \n",
        "  tf.keras.layers.Conv2D(filters=32, kernel_size=4,   \n",
        "                         input_shape=[28, 28, 1],  \n",
        "                         activation=tf.keras.activations.relu),\n",
        "  tf.keras.layers.MaxPool2D(pool_size=2, padding=\"valid\"), \n",
        "\n",
        "  tf.keras.layers.Conv2D(filters=64, kernel_size=3,   \n",
        "                         activation=tf.keras.activations.relu),\n",
        "  tf.keras.layers.MaxPool2D(pool_size=2, padding=\"valid\"), \n",
        "\n",
        "  tf.keras.layers.Conv2D(filters=128, kernel_size=3,   \n",
        "                         activation=tf.keras.activations.relu),\n",
        "  tf.keras.layers.MaxPool2D(pool_size=2, padding=\"valid\"), \n",
        "\n",
        "  tf.keras.layers.Flatten(),\n",
        "  tf.keras.layers.Dense(units=48, activation=tf.keras.activations.relu   ), \n",
        "  tf.keras.layers.Dense(units=25, activation=tf.keras.activations.softmax)\n",
        "])\n",
        "\n",
        "# Compile Model. \n",
        "model.compile(optimizer=tf.keras.optimizers.RMSprop(), \n",
        "              loss=tf.keras.losses.SparseCategoricalCrossentropy(), \n",
        "              metrics=['accuracy'])\n",
        "model.summary()\n",
        "\n",
        "# Train the Model\n",
        "history = model.fit(training_data, \n",
        "                    validation_data=validation_data,\n",
        "                    epochs=100)\n",
        "\n",
        "model.evaluate(validation_data)\n"
      ],
      "execution_count": 62,
      "outputs": [
        {
          "output_type": "stream",
          "text": [
            "Model: \"sequential_2\"\n",
            "_________________________________________________________________\n",
            "Layer (type)                 Output Shape              Param #   \n",
            "=================================================================\n",
            "conv2d_5 (Conv2D)            (None, 25, 25, 32)        544       \n",
            "_________________________________________________________________\n",
            "max_pooling2d_5 (MaxPooling2 (None, 12, 12, 32)        0         \n",
            "_________________________________________________________________\n",
            "conv2d_6 (Conv2D)            (None, 10, 10, 64)        18496     \n",
            "_________________________________________________________________\n",
            "max_pooling2d_6 (MaxPooling2 (None, 5, 5, 64)          0         \n",
            "_________________________________________________________________\n",
            "conv2d_7 (Conv2D)            (None, 3, 3, 128)         73856     \n",
            "_________________________________________________________________\n",
            "max_pooling2d_7 (MaxPooling2 (None, 1, 1, 128)         0         \n",
            "_________________________________________________________________\n",
            "flatten_2 (Flatten)          (None, 128)               0         \n",
            "_________________________________________________________________\n",
            "dense_4 (Dense)              (None, 48)                6192      \n",
            "_________________________________________________________________\n",
            "dense_5 (Dense)              (None, 25)                1225      \n",
            "=================================================================\n",
            "Total params: 100,313\n",
            "Trainable params: 100,313\n",
            "Non-trainable params: 0\n",
            "_________________________________________________________________\n",
            "Epoch 1/100\n",
            "858/858 [==============================] - 9s 9ms/step - loss: 2.9752 - accuracy: 0.0966 - val_loss: 2.0663 - val_accuracy: 0.3353\n",
            "Epoch 2/100\n",
            "858/858 [==============================] - 8s 9ms/step - loss: 1.9363 - accuracy: 0.3776 - val_loss: 1.2763 - val_accuracy: 0.5805\n",
            "Epoch 3/100\n",
            "858/858 [==============================] - 8s 9ms/step - loss: 1.3493 - accuracy: 0.5579 - val_loss: 0.8377 - val_accuracy: 0.7291\n",
            "Epoch 4/100\n",
            "858/858 [==============================] - 8s 9ms/step - loss: 1.0204 - accuracy: 0.6520 - val_loss: 0.9020 - val_accuracy: 0.6545\n",
            "Epoch 5/100\n",
            "858/858 [==============================] - 8s 9ms/step - loss: 0.7891 - accuracy: 0.7302 - val_loss: 0.5123 - val_accuracy: 0.8146\n",
            "Epoch 6/100\n",
            "858/858 [==============================] - 8s 9ms/step - loss: 0.6300 - accuracy: 0.7829 - val_loss: 0.4903 - val_accuracy: 0.8303\n",
            "Epoch 7/100\n",
            "858/858 [==============================] - 8s 9ms/step - loss: 0.5215 - accuracy: 0.8230 - val_loss: 0.3130 - val_accuracy: 0.8855\n",
            "Epoch 8/100\n",
            "858/858 [==============================] - 8s 9ms/step - loss: 0.4155 - accuracy: 0.8602 - val_loss: 0.3046 - val_accuracy: 0.8924\n",
            "Epoch 9/100\n",
            "858/858 [==============================] - 8s 9ms/step - loss: 0.3365 - accuracy: 0.8862 - val_loss: 0.2534 - val_accuracy: 0.9131\n",
            "Epoch 10/100\n",
            "858/858 [==============================] - 8s 9ms/step - loss: 0.2914 - accuracy: 0.9012 - val_loss: 0.1676 - val_accuracy: 0.9396\n",
            "Epoch 11/100\n",
            "858/858 [==============================] - 8s 9ms/step - loss: 0.2693 - accuracy: 0.9086 - val_loss: 0.1814 - val_accuracy: 0.9398\n",
            "Epoch 12/100\n",
            "858/858 [==============================] - 8s 9ms/step - loss: 0.2224 - accuracy: 0.9247 - val_loss: 0.2101 - val_accuracy: 0.9226\n",
            "Epoch 13/100\n",
            "858/858 [==============================] - 8s 9ms/step - loss: 0.2012 - accuracy: 0.9338 - val_loss: 0.1228 - val_accuracy: 0.9533\n",
            "Epoch 14/100\n",
            "858/858 [==============================] - 8s 9ms/step - loss: 0.1851 - accuracy: 0.9389 - val_loss: 0.1325 - val_accuracy: 0.9541\n",
            "Epoch 15/100\n",
            "858/858 [==============================] - 8s 9ms/step - loss: 0.1690 - accuracy: 0.9460 - val_loss: 0.1321 - val_accuracy: 0.9534\n",
            "Epoch 16/100\n",
            "858/858 [==============================] - 8s 9ms/step - loss: 0.1537 - accuracy: 0.9495 - val_loss: 0.1049 - val_accuracy: 0.9681\n",
            "Epoch 17/100\n",
            "858/858 [==============================] - 8s 9ms/step - loss: 0.1473 - accuracy: 0.9503 - val_loss: 0.1114 - val_accuracy: 0.9587\n",
            "Epoch 18/100\n",
            "858/858 [==============================] - 8s 9ms/step - loss: 0.1295 - accuracy: 0.9588 - val_loss: 0.1576 - val_accuracy: 0.9516\n",
            "Epoch 19/100\n",
            "858/858 [==============================] - 8s 9ms/step - loss: 0.1295 - accuracy: 0.9566 - val_loss: 0.1084 - val_accuracy: 0.9707\n",
            "Epoch 20/100\n",
            "858/858 [==============================] - 8s 9ms/step - loss: 0.1212 - accuracy: 0.9598 - val_loss: 0.1848 - val_accuracy: 0.9406\n",
            "Epoch 21/100\n",
            "858/858 [==============================] - 8s 9ms/step - loss: 0.1283 - accuracy: 0.9575 - val_loss: 0.0902 - val_accuracy: 0.9711\n",
            "Epoch 22/100\n",
            "858/858 [==============================] - 8s 9ms/step - loss: 0.1201 - accuracy: 0.9610 - val_loss: 0.1278 - val_accuracy: 0.9621\n",
            "Epoch 23/100\n",
            "858/858 [==============================] - 8s 9ms/step - loss: 0.1101 - accuracy: 0.9659 - val_loss: 0.1427 - val_accuracy: 0.9541\n",
            "Epoch 24/100\n",
            "858/858 [==============================] - 8s 9ms/step - loss: 0.1067 - accuracy: 0.9657 - val_loss: 0.1060 - val_accuracy: 0.9640\n",
            "Epoch 25/100\n",
            "858/858 [==============================] - 8s 9ms/step - loss: 0.1004 - accuracy: 0.9688 - val_loss: 0.0778 - val_accuracy: 0.9808\n",
            "Epoch 26/100\n",
            "858/858 [==============================] - 8s 9ms/step - loss: 0.1071 - accuracy: 0.9673 - val_loss: 0.0488 - val_accuracy: 0.9822\n",
            "Epoch 27/100\n",
            "858/858 [==============================] - 8s 9ms/step - loss: 0.0929 - accuracy: 0.9707 - val_loss: 0.0592 - val_accuracy: 0.9817\n",
            "Epoch 28/100\n",
            "858/858 [==============================] - 8s 9ms/step - loss: 0.1072 - accuracy: 0.9693 - val_loss: 0.1686 - val_accuracy: 0.9566\n",
            "Epoch 29/100\n",
            "858/858 [==============================] - 8s 9ms/step - loss: 0.0960 - accuracy: 0.9687 - val_loss: 0.0291 - val_accuracy: 0.9897\n",
            "Epoch 30/100\n",
            "858/858 [==============================] - 8s 9ms/step - loss: 0.0853 - accuracy: 0.9733 - val_loss: 0.0701 - val_accuracy: 0.9745\n",
            "Epoch 31/100\n",
            "858/858 [==============================] - 8s 9ms/step - loss: 0.0942 - accuracy: 0.9726 - val_loss: 0.1038 - val_accuracy: 0.9696\n",
            "Epoch 32/100\n",
            "858/858 [==============================] - 8s 9ms/step - loss: 0.0990 - accuracy: 0.9708 - val_loss: 0.0627 - val_accuracy: 0.9819\n",
            "Epoch 33/100\n",
            "858/858 [==============================] - 8s 9ms/step - loss: 0.1026 - accuracy: 0.9704 - val_loss: 0.0436 - val_accuracy: 0.9823\n",
            "Epoch 34/100\n",
            "858/858 [==============================] - 8s 9ms/step - loss: 0.0883 - accuracy: 0.9727 - val_loss: 0.1373 - val_accuracy: 0.9710\n",
            "Epoch 35/100\n",
            "858/858 [==============================] - 8s 9ms/step - loss: 0.0935 - accuracy: 0.9723 - val_loss: 0.1537 - val_accuracy: 0.9654\n",
            "Epoch 36/100\n",
            "858/858 [==============================] - 8s 9ms/step - loss: 0.0904 - accuracy: 0.9743 - val_loss: 0.0699 - val_accuracy: 0.9781\n",
            "Epoch 37/100\n",
            "858/858 [==============================] - 8s 9ms/step - loss: 0.0890 - accuracy: 0.9739 - val_loss: 0.0713 - val_accuracy: 0.9741\n",
            "Epoch 38/100\n",
            "858/858 [==============================] - 8s 9ms/step - loss: 0.0823 - accuracy: 0.9766 - val_loss: 0.0475 - val_accuracy: 0.9863\n",
            "Epoch 39/100\n",
            "858/858 [==============================] - 8s 9ms/step - loss: 0.0804 - accuracy: 0.9760 - val_loss: 0.1034 - val_accuracy: 0.9699\n",
            "Epoch 40/100\n",
            "858/858 [==============================] - 8s 9ms/step - loss: 0.0829 - accuracy: 0.9761 - val_loss: 0.0496 - val_accuracy: 0.9808\n",
            "Epoch 41/100\n",
            "858/858 [==============================] - 8s 9ms/step - loss: 0.0793 - accuracy: 0.9762 - val_loss: 0.0990 - val_accuracy: 0.9693\n",
            "Epoch 42/100\n",
            "858/858 [==============================] - 8s 9ms/step - loss: 0.0854 - accuracy: 0.9744 - val_loss: 0.0713 - val_accuracy: 0.9756\n",
            "Epoch 43/100\n",
            "858/858 [==============================] - 8s 9ms/step - loss: 0.0800 - accuracy: 0.9781 - val_loss: 0.0629 - val_accuracy: 0.9816\n",
            "Epoch 44/100\n",
            "858/858 [==============================] - 8s 9ms/step - loss: 0.0906 - accuracy: 0.9741 - val_loss: 0.1028 - val_accuracy: 0.9808\n",
            "Epoch 45/100\n",
            "858/858 [==============================] - 8s 9ms/step - loss: 0.0743 - accuracy: 0.9787 - val_loss: 0.1277 - val_accuracy: 0.9703\n",
            "Epoch 46/100\n",
            "858/858 [==============================] - 8s 9ms/step - loss: 0.0797 - accuracy: 0.9777 - val_loss: 0.0501 - val_accuracy: 0.9826\n",
            "Epoch 47/100\n",
            "858/858 [==============================] - 8s 9ms/step - loss: 0.0830 - accuracy: 0.9757 - val_loss: 0.0320 - val_accuracy: 0.9912\n",
            "Epoch 48/100\n",
            "858/858 [==============================] - 8s 9ms/step - loss: 0.0759 - accuracy: 0.9798 - val_loss: 0.0592 - val_accuracy: 0.9828\n",
            "Epoch 49/100\n",
            "858/858 [==============================] - 8s 9ms/step - loss: 0.0744 - accuracy: 0.9789 - val_loss: 0.1022 - val_accuracy: 0.9799\n",
            "Epoch 50/100\n",
            "858/858 [==============================] - 8s 9ms/step - loss: 0.0846 - accuracy: 0.9762 - val_loss: 0.1029 - val_accuracy: 0.9778\n",
            "Epoch 51/100\n",
            "858/858 [==============================] - 8s 9ms/step - loss: 0.0678 - accuracy: 0.9814 - val_loss: 0.0752 - val_accuracy: 0.9778\n",
            "Epoch 52/100\n",
            "858/858 [==============================] - 8s 9ms/step - loss: 0.0734 - accuracy: 0.9801 - val_loss: 0.0345 - val_accuracy: 0.9873\n",
            "Epoch 53/100\n",
            "858/858 [==============================] - 8s 9ms/step - loss: 0.0733 - accuracy: 0.9815 - val_loss: 0.0526 - val_accuracy: 0.9890\n",
            "Epoch 54/100\n",
            "858/858 [==============================] - 8s 9ms/step - loss: 0.0758 - accuracy: 0.9790 - val_loss: 0.0629 - val_accuracy: 0.9812\n",
            "Epoch 55/100\n",
            "858/858 [==============================] - 8s 9ms/step - loss: 0.0660 - accuracy: 0.9814 - val_loss: 0.0580 - val_accuracy: 0.9844\n",
            "Epoch 56/100\n",
            "858/858 [==============================] - 8s 9ms/step - loss: 0.0735 - accuracy: 0.9799 - val_loss: 0.0556 - val_accuracy: 0.9893\n",
            "Epoch 57/100\n",
            "858/858 [==============================] - 8s 9ms/step - loss: 0.0759 - accuracy: 0.9800 - val_loss: 0.0936 - val_accuracy: 0.9696\n",
            "Epoch 58/100\n",
            "858/858 [==============================] - 8s 9ms/step - loss: 0.0960 - accuracy: 0.9763 - val_loss: 0.0605 - val_accuracy: 0.9835\n",
            "Epoch 59/100\n",
            "858/858 [==============================] - 8s 9ms/step - loss: 0.0737 - accuracy: 0.9789 - val_loss: 0.1191 - val_accuracy: 0.9844\n",
            "Epoch 60/100\n",
            "858/858 [==============================] - 8s 9ms/step - loss: 0.0828 - accuracy: 0.9789 - val_loss: 0.0735 - val_accuracy: 0.9817\n",
            "Epoch 61/100\n",
            "858/858 [==============================] - 8s 9ms/step - loss: 0.0820 - accuracy: 0.9802 - val_loss: 0.0628 - val_accuracy: 0.9830\n",
            "Epoch 62/100\n",
            "858/858 [==============================] - 8s 9ms/step - loss: 0.0762 - accuracy: 0.9804 - val_loss: 0.0687 - val_accuracy: 0.9876\n",
            "Epoch 63/100\n",
            "858/858 [==============================] - 8s 9ms/step - loss: 0.0772 - accuracy: 0.9787 - val_loss: 0.0543 - val_accuracy: 0.9822\n",
            "Epoch 64/100\n",
            "858/858 [==============================] - 8s 9ms/step - loss: 0.0815 - accuracy: 0.9792 - val_loss: 0.1304 - val_accuracy: 0.9745\n",
            "Epoch 65/100\n",
            "858/858 [==============================] - 8s 9ms/step - loss: 0.0727 - accuracy: 0.9817 - val_loss: 0.0722 - val_accuracy: 0.9872\n",
            "Epoch 66/100\n",
            "858/858 [==============================] - 8s 9ms/step - loss: 0.0845 - accuracy: 0.9790 - val_loss: 0.0954 - val_accuracy: 0.9795\n",
            "Epoch 67/100\n",
            "858/858 [==============================] - 8s 9ms/step - loss: 0.0710 - accuracy: 0.9823 - val_loss: 0.0771 - val_accuracy: 0.9791\n",
            "Epoch 68/100\n",
            "858/858 [==============================] - 8s 9ms/step - loss: 0.0907 - accuracy: 0.9778 - val_loss: 0.0243 - val_accuracy: 0.9919\n",
            "Epoch 69/100\n",
            "858/858 [==============================] - 8s 9ms/step - loss: 0.0741 - accuracy: 0.9813 - val_loss: 0.0776 - val_accuracy: 0.9788\n",
            "Epoch 70/100\n",
            "858/858 [==============================] - 8s 9ms/step - loss: 0.0804 - accuracy: 0.9808 - val_loss: 0.0815 - val_accuracy: 0.9798\n",
            "Epoch 71/100\n",
            "858/858 [==============================] - 8s 9ms/step - loss: 0.0826 - accuracy: 0.9820 - val_loss: 0.0615 - val_accuracy: 0.9849\n",
            "Epoch 72/100\n",
            "858/858 [==============================] - 8s 10ms/step - loss: 0.0720 - accuracy: 0.9830 - val_loss: 0.0257 - val_accuracy: 0.9941\n",
            "Epoch 73/100\n",
            "858/858 [==============================] - 8s 9ms/step - loss: 0.0772 - accuracy: 0.9827 - val_loss: 0.0481 - val_accuracy: 0.9926\n",
            "Epoch 74/100\n",
            "858/858 [==============================] - 8s 9ms/step - loss: 0.0699 - accuracy: 0.9807 - val_loss: 0.0960 - val_accuracy: 0.9770\n",
            "Epoch 75/100\n",
            "858/858 [==============================] - 8s 9ms/step - loss: 0.0805 - accuracy: 0.9803 - val_loss: 0.0714 - val_accuracy: 0.9909\n",
            "Epoch 76/100\n",
            "858/858 [==============================] - 8s 9ms/step - loss: 0.0870 - accuracy: 0.9800 - val_loss: 0.1250 - val_accuracy: 0.9706\n",
            "Epoch 77/100\n",
            "858/858 [==============================] - 8s 9ms/step - loss: 0.0673 - accuracy: 0.9819 - val_loss: 0.1224 - val_accuracy: 0.9752\n",
            "Epoch 78/100\n",
            "858/858 [==============================] - 8s 9ms/step - loss: 0.0723 - accuracy: 0.9831 - val_loss: 0.0342 - val_accuracy: 0.9929\n",
            "Epoch 79/100\n",
            "858/858 [==============================] - 8s 9ms/step - loss: 0.0878 - accuracy: 0.9804 - val_loss: 0.0442 - val_accuracy: 0.9883\n",
            "Epoch 80/100\n",
            "858/858 [==============================] - 8s 9ms/step - loss: 0.0757 - accuracy: 0.9835 - val_loss: 0.1805 - val_accuracy: 0.9612\n",
            "Epoch 81/100\n",
            "858/858 [==============================] - 8s 9ms/step - loss: 0.0818 - accuracy: 0.9831 - val_loss: 0.0889 - val_accuracy: 0.9859\n",
            "Epoch 82/100\n",
            "858/858 [==============================] - 8s 9ms/step - loss: 0.0745 - accuracy: 0.9836 - val_loss: 0.3027 - val_accuracy: 0.9331\n",
            "Epoch 83/100\n",
            "858/858 [==============================] - 8s 9ms/step - loss: 0.0750 - accuracy: 0.9808 - val_loss: 0.1113 - val_accuracy: 0.9840\n",
            "Epoch 84/100\n",
            "858/858 [==============================] - 8s 9ms/step - loss: 0.0707 - accuracy: 0.9838 - val_loss: 0.0446 - val_accuracy: 0.9840\n",
            "Epoch 85/100\n",
            "858/858 [==============================] - 8s 9ms/step - loss: 0.0810 - accuracy: 0.9815 - val_loss: 0.0795 - val_accuracy: 0.9842\n",
            "Epoch 86/100\n",
            "858/858 [==============================] - 8s 9ms/step - loss: 0.0717 - accuracy: 0.9841 - val_loss: 0.0893 - val_accuracy: 0.9799\n",
            "Epoch 87/100\n",
            "858/858 [==============================] - 8s 9ms/step - loss: 0.0756 - accuracy: 0.9841 - val_loss: 0.0525 - val_accuracy: 0.9863\n",
            "Epoch 88/100\n",
            "858/858 [==============================] - 8s 9ms/step - loss: 0.0861 - accuracy: 0.9811 - val_loss: 0.0117 - val_accuracy: 0.9951\n",
            "Epoch 89/100\n",
            "858/858 [==============================] - 8s 9ms/step - loss: 0.0760 - accuracy: 0.9821 - val_loss: 0.0364 - val_accuracy: 0.9902\n",
            "Epoch 90/100\n",
            "858/858 [==============================] - 8s 9ms/step - loss: 0.0684 - accuracy: 0.9842 - val_loss: 0.1753 - val_accuracy: 0.9755\n",
            "Epoch 91/100\n",
            "858/858 [==============================] - 8s 9ms/step - loss: 0.0695 - accuracy: 0.9833 - val_loss: 0.0217 - val_accuracy: 0.9926\n",
            "Epoch 92/100\n",
            "858/858 [==============================] - 8s 9ms/step - loss: 0.0673 - accuracy: 0.9839 - val_loss: 0.0957 - val_accuracy: 0.9785\n",
            "Epoch 93/100\n",
            "858/858 [==============================] - 8s 9ms/step - loss: 0.0742 - accuracy: 0.9843 - val_loss: 0.0658 - val_accuracy: 0.9838\n",
            "Epoch 94/100\n",
            "858/858 [==============================] - 8s 9ms/step - loss: 0.0647 - accuracy: 0.9851 - val_loss: 0.0399 - val_accuracy: 0.9884\n",
            "Epoch 95/100\n",
            "858/858 [==============================] - 8s 9ms/step - loss: 0.0929 - accuracy: 0.9801 - val_loss: 0.0385 - val_accuracy: 0.9918\n",
            "Epoch 96/100\n",
            "858/858 [==============================] - 8s 9ms/step - loss: 0.0755 - accuracy: 0.9832 - val_loss: 0.0629 - val_accuracy: 0.9831\n",
            "Epoch 97/100\n",
            "858/858 [==============================] - 8s 9ms/step - loss: 0.0795 - accuracy: 0.9820 - val_loss: 0.0872 - val_accuracy: 0.9827\n",
            "Epoch 98/100\n",
            "858/858 [==============================] - 8s 9ms/step - loss: 0.0714 - accuracy: 0.9839 - val_loss: 0.0952 - val_accuracy: 0.9816\n",
            "Epoch 99/100\n",
            "858/858 [==============================] - 8s 9ms/step - loss: 0.0749 - accuracy: 0.9842 - val_loss: 0.1668 - val_accuracy: 0.9660\n",
            "Epoch 100/100\n",
            "858/858 [==============================] - 8s 9ms/step - loss: 0.0847 - accuracy: 0.9820 - val_loss: 0.0762 - val_accuracy: 0.9863\n",
            "225/225 [==============================] - 0s 2ms/step - loss: 0.0762 - accuracy: 0.9863\n"
          ],
          "name": "stdout"
        },
        {
          "output_type": "execute_result",
          "data": {
            "text/plain": [
              "[0.07620953768491745, 0.9863357543945312]"
            ]
          },
          "metadata": {
            "tags": []
          },
          "execution_count": 62
        }
      ]
    },
    {
      "cell_type": "code",
      "metadata": {
        "id": "_Q3Zpr46dsij",
        "colab": {
          "base_uri": "https://localhost:8080/",
          "height": 545
        },
        "outputId": "ec154736-c1cb-4f26-81ee-dfaf03af5dee"
      },
      "source": [
        "# Plot the chart for accuracy and loss on both training and validation\n",
        "\n",
        "import matplotlib.pyplot as plt\n",
        "acc = history.history[\"accuracy\"]\n",
        "val_acc = history.history[\"val_accuracy\"]\n",
        "loss = history.history[\"loss\"]\n",
        "val_loss = history.history[\"val_loss\"]\n",
        "\n",
        "epochs = range(len(acc))\n",
        "\n",
        "plt.plot(epochs, acc, 'r', label='Training accuracy')\n",
        "plt.plot(epochs, val_acc, 'b', label='Validation accuracy')\n",
        "plt.title('Training and validation accuracy')\n",
        "plt.legend()\n",
        "plt.figure()\n",
        "\n",
        "plt.plot(epochs, loss, 'r', label='Training Loss')\n",
        "plt.plot(epochs, val_loss, 'b', label='Validation Loss')\n",
        "plt.title('Training and validation loss')\n",
        "plt.legend()\n",
        "\n",
        "plt.show()\n"
      ],
      "execution_count": 63,
      "outputs": [
        {
          "output_type": "display_data",
          "data": {
            "image/png": "[encoded data removed]",
            "text/plain": [
              "<Figure size 432x288 with 1 Axes>"
            ]
          },
          "metadata": {
            "tags": [],
            "needs_background": "light"
          }
        },
        {
          "output_type": "display_data",
          "data": {
            "image/png": "[encoded data removed]",
            "text/plain": [
              "<Figure size 432x288 with 1 Axes>"
            ]
          },
          "metadata": {
            "tags": [],
            "needs_background": "light"
          }
        }
      ]
    }
  ]
}